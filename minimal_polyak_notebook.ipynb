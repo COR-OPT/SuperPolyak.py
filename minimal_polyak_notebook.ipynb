{
 "cells": [
  {
   "cell_type": "code",
   "execution_count": null,
   "metadata": {
    "pycharm": {
     "name": "#%%\n"
    }
   },
   "outputs": [],
   "source": [
    "import torch\n",
    "import polyak\n",
    "\n",
    "\n",
    "x = torch.randn(2, requires_grad=True, dtype=torch.double)\n",
    "def loss_function():\n",
    "    return sum(torch.abs(x))\n",
    "\n",
    "def closure():\n",
    "    optimizer.zero_grad()\n",
    "    loss = loss_function()\n",
    "    loss.backward()\n",
    "    return loss\n",
    "\n",
    "param = [x]\n",
    "optimizer = polyak.Polyak(param)\n",
    "# A short loop that applies the Polyak subgradient method to the loss function\n",
    "for i in range(100):\n",
    "    loss = optimizer.step(closure)\n",
    "    print(\"Iteration: {}, Loss: {}\".format(i, loss))\n",
    "    print(\"x: {}\".format(x.data))\n"
   ]
  },
  {
   "cell_type": "code",
   "execution_count": null,
   "metadata": {
    "pycharm": {
     "name": "#%%\n"
    }
   },
   "outputs": [],
   "source": [
    "# Quick working test of superpolyak with numpy functions\n",
    "import util\n",
    "import numpy as np\n",
    "import torch\n",
    "\n",
    "def f(y):\n",
    "    return np.sum(np.abs(y))\n",
    "\n",
    "def gradf(y):\n",
    "    return np.sign(y)\n",
    "\n",
    "d = 5\n",
    "max_elts = d\n",
    "y0 = np.random.randn(d)\n",
    "while f(y0) > 1e-20:\n",
    "    y, d = util.build_bundle(f=f, gradf=gradf, y0=y0, tau=1.,eta_est=1.5,min_f=0., max_elts=max_elts)\n",
    "    y0 = y\n",
    "    print(\"f(y)\", f(y0))"
   ]
  },
  {
   "cell_type": "code",
   "execution_count": null,
   "outputs": [],
   "source": [
    "# A pytorch compatible version of the above code.\n",
    "import util\n",
    "import numpy as np\n",
    "import torch\n",
    "\n",
    "d = 5\n",
    "max_elts = d\n",
    "x = torch.randn(d, requires_grad=True, dtype=torch.double)\n",
    "\n",
    "def f():\n",
    "    return torch.sum(abs(x))\n",
    "\n",
    "# Closure function to allow us to call backward.\n",
    "def closure():\n",
    "    if x.grad is None:\n",
    "        x.grad = torch.zeros_like(x)\n",
    "    else:\n",
    "        x.grad.data.zero_()\n",
    "    loss = f()\n",
    "    loss.backward()\n",
    "    return loss\n",
    "\n",
    "current_iter = 0\n",
    "while closure().item() > 1e-20 and current_iter < 100:\n",
    "    y, bundle_idx = util.build_bundle_torch(closure, x=x, tau=np.inf,eta_est=1.5,min_f=0., max_elts=max_elts)\n",
    "    x.data = torch.Tensor(y)\n",
    "    print(\"f(y)\", closure().item())\n",
    "    print(\"Bundle index\", bundle_idx)\n",
    "    current_iter += 1"
   ],
   "metadata": {
    "collapsed": false,
    "pycharm": {
     "name": "#%%\n"
    }
   }
  },
  {
   "cell_type": "code",
   "execution_count": null,
   "outputs": [],
   "source": [
    "# A version of the previous code that supports parameter groups.\n",
    "import numpy as np\n",
    "import torch\n",
    "import torch.nn.functional as F\n",
    "\n",
    "d = 5\n",
    "max_elts = d\n",
    "x = torch.randn(d, requires_grad=True, dtype=torch.double)\n",
    "\n",
    "def f():\n",
    "    return torch.sum(torch.abs(x))\n",
    "\n",
    "\n",
    "# Closure function to allow us to call backward.\n",
    "def closure():\n",
    "    if x.grad is None:\n",
    "        x.grad = torch.zeros_like(x)\n",
    "    else:\n",
    "        x.grad.data.zero_()\n",
    "    loss = f()\n",
    "    loss.backward()\n",
    "    return loss\n",
    "\n",
    "current_iter = 0\n",
    "while closure().item() > 1e-20 and current_iter < 100:\n",
    "    _, bundle_idx = util.build_bundle_torch_param_groups(closure, params=[x], tau=np.inf,eta_est=1.5,min_f=0., max_elts=max_elts)\n",
    "    # x.data = torch.Tensor(y)\n",
    "    print(\"f(y)\", closure().item())\n",
    "    print(\"Bundle index\", bundle_idx)\n",
    "    current_iter += 1"
   ],
   "metadata": {
    "collapsed": false,
    "pycharm": {
     "name": "#%%\n"
    }
   }
  },
  {
   "cell_type": "code",
   "execution_count": 17,
   "outputs": [
    {
     "name": "stdout",
     "output_type": "stream",
     "text": [
      "number of parameters 801\n",
      "bundle size 100\n",
      "Iteration:  0 , Loss:  0.009525892725535667 , Bundle_exit_step  100\n",
      "Bundle index 100\n",
      "Iteration:  100 , Loss:  0.00014558895038545294 , Bundle_exit_step  100\n",
      "Bundle index 100\n",
      "Iteration:  200 , Loss:  8.085626757026176e-08 , Bundle_exit_step  100\n",
      "Bundle index 100\n",
      "Iteration:  300 , Loss:  6.386557949156213e-14 , Bundle_exit_step  100\n",
      "Bundle index 100\n",
      "Iteration:  400 , Loss:  1.329492071988625e-14 , Bundle_exit_step  100\n",
      "Bundle index 100\n",
      "Iteration:  500 , Loss:  1.554312234475219e-14 , Bundle_exit_step  100\n",
      "Bundle index 100\n",
      "Iteration:  600 , Loss:  1.3614109839465982e-14 , Bundle_exit_step  100\n",
      "Bundle index 100\n",
      "Iteration:  700 , Loss:  1.1948775302528247e-14 , Bundle_exit_step  100\n",
      "Bundle index 100\n",
      "Iteration:  800 , Loss:  1.304512053934559e-14 , Bundle_exit_step  100\n",
      "Bundle index 100\n",
      "Iteration:  900 , Loss:  1.2795320358804929e-14 , Bundle_exit_step  100\n",
      "Bundle index 100\n",
      "Sucess\n"
     ]
    },
    {
     "data": {
      "text/plain": "<Figure size 432x288 with 1 Axes>",
      "image/png": "[encoded data removed]"
     },
     "metadata": {
      "needs_background": "light"
     },
     "output_type": "display_data"
    }
   ],
   "source": [
    "# Fitting a small neural network with pytorch.\n",
    "\n",
    "import torch\n",
    "import torch.nn as nn\n",
    "import torch.nn.functional as F\n",
    "import torch.optim as optim\n",
    "import numpy as np\n",
    "import util\n",
    "\n",
    "class Net(nn.Module):\n",
    "    def __init__(self):\n",
    "        super(Net, self).__init__()\n",
    "        self.fc1 = nn.Linear(2, 200, dtype=torch.double)\n",
    "        self.fc2 = nn.Linear(200, 1, dtype=torch.double)\n",
    "\n",
    "    def forward(self, x):\n",
    "        x = F.relu(self.fc1(x))\n",
    "        x = self.fc2(x)\n",
    "        return x\n",
    "\n",
    "net = Net()\n",
    "# Let d be the number of parameters in net\n",
    "d = sum(p.numel() for p in net.parameters() if p.requires_grad)\n",
    "print(\"number of parameters\", d)\n",
    "max_elts = int(100)\n",
    "print(\"bundle size\", max_elts)\n",
    "\n",
    "# fake training data\n",
    "x = torch.randn(100, 2, dtype=torch.double)\n",
    "y = net(x).detach().clone().requires_grad_(False)\n",
    "# Reset the parameters\n",
    "net = Net()\n",
    "\n",
    "# a loss function\n",
    "def loss_function():\n",
    "    return sum(torch.abs(net(x) - y))\n",
    "\n",
    "# a closure function to allow us to call backward\n",
    "def closure():\n",
    "    net.zero_grad()\n",
    "    loss = loss_function()\n",
    "    loss.backward()\n",
    "    return loss\n",
    "\n",
    "max_oracle_calls = 1000\n",
    "params = list(net.parameters())\n",
    "gap = [closure().item()]\n",
    "cumulative_oracle_calls = [0]\n",
    "while closure().item() > 1e-16 and cumulative_oracle_calls[-1] < max_oracle_calls:\n",
    "    _, bundle_idx = util.build_bundle_torch_param_groups(closure, params=params, tau=np.inf,eta_est=.9,min_f=0., max_elts=max_elts)\n",
    "    print(\"Iteration: \", cumulative_oracle_calls[-1], \", Loss: \", closure().item(), \", Bundle_exit_step \", bundle_idx)\n",
    "    print(\"Bundle index\", bundle_idx)\n",
    "    cumulative_oracle_calls.append(bundle_idx + cumulative_oracle_calls[-1])\n",
    "    gap.append(closure().item())\n",
    "print(\"Sucess\")\n",
    "\n",
    "# A matplotlib semilogylog plot of the gap between the loss.\n",
    "# the x axes is the cumulative oracle calls\n",
    "# the y axes is the loss\n",
    "import matplotlib.pyplot as plt\n",
    "plt.semilogy(cumulative_oracle_calls, gap)\n",
    "# label the x axes cumulative oracle calls\n",
    "# label the y axes the $f(x) - f^*$ gap\n",
    "plt.xlabel(\"Cumulative oracle calls\")\n",
    "plt.ylabel(\"$f(x) - f^*$\")\n",
    "# title the plot: 2 layer neural network with d parameters, where d is replaced by its numerical value\n",
    "plt.title(\"2 layer neural network with {} parameters\".format(d))\n",
    "plt.show()\n"
   ],
   "metadata": {
    "collapsed": false,
    "pycharm": {
     "name": "#%%\n"
    }
   }
  },
  {
   "cell_type": "code",
   "execution_count": null,
   "outputs": [],
   "source": [],
   "metadata": {
    "collapsed": false,
    "pycharm": {
     "name": "#%%\n"
    }
   }
  }
 ],
 "metadata": {
  "kernelspec": {
   "display_name": "Python 3 (ipykernel)",
   "language": "python",
   "name": "python3"
  },
  "language_info": {
   "codemirror_mode": {
    "name": "ipython",
    "version": 3
   },
   "file_extension": ".py",
   "mimetype": "text/x-python",
   "name": "python",
   "nbconvert_exporter": "python",
   "pygments_lexer": "ipython3",
   "version": "3.10.7"
  }
 },
 "nbformat": 4,
 "nbformat_minor": 1
}