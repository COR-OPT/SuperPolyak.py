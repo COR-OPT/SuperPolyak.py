{
 "cells": [
  {
   "cell_type": "code",
   "execution_count": null,
   "metadata": {
    "pycharm": {
     "name": "#%%\n"
    }
   },
   "outputs": [],
   "source": [
    "import torch\n",
    "import polyak\n",
    "\n",
    "\n",
    "x = torch.randn(2, requires_grad=True, dtype=torch.double)\n",
    "def loss_function():\n",
    "    return sum(torch.abs(x))\n",
    "\n",
    "def closure():\n",
    "    optimizer.zero_grad()\n",
    "    loss = loss_function()\n",
    "    loss.backward()\n",
    "    return loss\n",
    "\n",
    "param = [x]\n",
    "optimizer = polyak.Polyak(param)\n",
    "# A short loop that applies the Polyak subgradient method to the loss function\n",
    "for i in range(100):\n",
    "    loss = optimizer.step(closure)\n",
    "    print(\"Iteration: {}, Loss: {}\".format(i, loss))\n",
    "    print(\"x: {}\".format(x.data))\n"
   ]
  },
  {
   "cell_type": "code",
   "execution_count": null,
   "metadata": {
    "pycharm": {
     "is_executing": true,
     "name": "#%%\n"
    }
   },
   "outputs": [],
   "source": [
    "# Quick working test of superpolyak with numpy functions\n",
    "import util\n",
    "import numpy as np\n",
    "import torch\n",
    "\n",
    "def f(y):\n",
    "    return np.sum(np.abs(y))\n",
    "\n",
    "def gradf(y):\n",
    "    return np.sign(y)\n",
    "\n",
    "linsys_solver = util.BundleLinearSystemSolver.LSMR\n",
    "\n",
    "d = 10\n",
    "max_elts = d\n",
    "y0 = np.random.randn(d)\n",
    "y = y0[:]\n",
    "iter_idx = 0\n",
    "while f(y) > 1e-20:\n",
    "    y, itr = util.build_bundle(\n",
    "        f=f, gradf=gradf, y0=y, tau=(1.5) ** (iter_idx + 1), eta_est=0.5, min_f=0., max_elts=max_elts,\n",
    "        bundle_linear_system_solver=linsys_solver)\n",
    "    print(\"f(y)\", f(y), f\"itr={itr}\")\n",
    "    iter_idx += 1"
   ]
  }
 ],
 "metadata": {
  "kernelspec": {
   "display_name": "Python 3 (ipykernel)",
   "language": "python",
   "name": "python3"
  },
  "language_info": {
   "codemirror_mode": {
    "name": "ipython",
    "version": 3
   },
   "file_extension": ".py",
   "mimetype": "text/x-python",
   "name": "python",
   "nbconvert_exporter": "python",
   "pygments_lexer": "ipython3",
   "version": "3.10.7"
  }
 },
 "nbformat": 4,
 "nbformat_minor": 1
}
