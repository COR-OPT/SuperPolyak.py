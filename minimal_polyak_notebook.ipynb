{
 "cells": [
  {
   "cell_type": "markdown",
   "source": [
    "# Optimizing the l1 norm with superpolyak\n"
   ],
   "metadata": {
    "collapsed": false,
    "pycharm": {
     "name": "#%% md\n"
    }
   }
  },
  {
   "cell_type": "code",
   "execution_count": null,
   "outputs": [],
   "source": [
    "# A pytorch compatible version of the above code.\n",
    "import util\n",
    "import numpy as np\n",
    "import torch\n",
    "import SuperPolyak\n",
    "\n",
    "d = 5\n",
    "max_elts = d\n",
    "x = torch.randn(d, requires_grad=True, dtype=torch.double)\n",
    "\n",
    "def f():\n",
    "    return torch.sum(abs(x))\n",
    "\n",
    "optimizer=SuperPolyak.SuperPolyak([x], max_elts=max_elts, eta_est=1.5)\n",
    "# Closure function to allow us to call backward.\n",
    "def closure():\n",
    "    optimizer.zero_grad()\n",
    "    loss = f()\n",
    "    loss.backward()\n",
    "    return loss\n",
    "\n",
    "current_iter = 0\n",
    "while closure().item() > 1e-20 and current_iter < 100:\n",
    "    loss, bundle_index = optimizer.step(closure)\n",
    "    print(\"f(y)\", closure().item())\n",
    "    print(\"Bundle index\", bundle_index)\n",
    "    current_iter += 1"
   ],
   "metadata": {
    "collapsed": false,
    "pycharm": {
     "name": "#%%\n"
    }
   }
  },
  {
   "cell_type": "markdown",
   "source": [
    "# Optimizing a small neural network with SuperPolyak"
   ],
   "metadata": {
    "collapsed": false,
    "pycharm": {
     "name": "#%% md\n"
    }
   }
  },
  {
   "cell_type": "code",
   "execution_count": null,
   "outputs": [],
   "source": [
    "# Fitting a small neural network with pytorch.\n",
    "\n",
    "import torch\n",
    "import torch.nn as nn\n",
    "import torch.nn.functional as F\n",
    "import torch.optim as optim\n",
    "import numpy as np\n",
    "import SuperPolyak\n",
    "\n",
    "\n",
    "input_size = 100\n",
    "class Net(nn.Module):\n",
    "    def __init__(self):\n",
    "        super(Net, self).__init__()\n",
    "        self.fc1 = nn.Linear(input_size, 2000, dtype=torch.double)\n",
    "        self.fc2 = nn.Linear(2000, 1, dtype=torch.double)\n",
    "        # add a convolutional layer of the appropriate __sizeof__\n",
    "\n",
    "    def forward(self, x):\n",
    "        x = F.relu(self.fc1(x))\n",
    "        x = self.fc2(x)\n",
    "        # add another relu layer\n",
    "        # x = F.relu(self.conv1(x))\n",
    "        return x\n",
    "\n",
    "net = Net()\n",
    "# Let d be the number of parameters in net\n",
    "d = sum(p.numel() for p in net.parameters() if p.requires_grad)\n",
    "print(\"number of parameters\", d)\n",
    "max_elts = int(200)\n",
    "print(\"bundle size\", max_elts)\n",
    "\n",
    "# fake training data\n",
    "x = torch.randn(1000, input_size, dtype=torch.double)\n",
    "y = net(x).detach().clone().requires_grad_(False)\n",
    "# Reset the parameters\n",
    "net = Net()\n",
    "\n",
    "# a loss function\n",
    "def loss_function():\n",
    "    return sum(torch.abs(net(x) - y))\n",
    "\n",
    "# a closure function to allow us to call backward\n",
    "max_oracle_calls = 10000\n",
    "params = list(net.parameters())\n",
    "linsys_solver=SuperPolyak.BundleLinearSystemSolver.LSMR\n",
    "optimizer = SuperPolyak.SuperPolyak(params, max_elts=max_elts, eta_est=.1, linsys_solver=linsys_solver)\n",
    "def closure():\n",
    "    optimizer.zero_grad()\n",
    "    loss = loss_function()\n",
    "    loss.backward()\n",
    "    return loss\n",
    "gap = [closure().item()]\n",
    "cumulative_oracle_calls = [0]\n",
    "\n",
    "while closure().item() > 1e-10 and cumulative_oracle_calls[-1] < max_oracle_calls:\n",
    "    loss, bundle_idx = optimizer.step(closure)\n",
    "    print(\"Iteration: \", cumulative_oracle_calls[-1], \", Loss: \", closure().item(), \", Bundle_exit_step \", bundle_idx)\n",
    "    cumulative_oracle_calls.append(bundle_idx + cumulative_oracle_calls[-1])\n",
    "    gap.append(closure().item())\n",
    "\n",
    "\n",
    "import matplotlib.pyplot as plt\n",
    "plt.semilogy(cumulative_oracle_calls, gap)\n",
    "plt.xlabel(\"Cumulative oracle calls\")\n",
    "plt.ylabel(\"$f(x) - f^*$\")\n",
    "plt.title(\"2 layer neural network with {} parameters\".format(d))\n",
    "plt.show()"
   ],
   "metadata": {
    "collapsed": false,
    "pycharm": {
     "name": "#%%\n"
    }
   }
  },
  {
   "cell_type": "markdown",
   "source": [
    "# An illustration of the problems.py module"
   ],
   "metadata": {
    "collapsed": false,
    "pycharm": {
     "name": "#%% md\n"
    }
   }
  },
  {
   "cell_type": "code",
   "execution_count": null,
   "outputs": [],
   "source": [
    "import SuperPolyak\n",
    "import problems\n",
    "d = 100\n",
    "k=2\n",
    "m = 4*d*k\n",
    "z = problems.MaxAffineRegressionProblem(m=m,d=100, k=k)\n",
    "init = z.initializer(1)\n",
    "param = [init]\n",
    "optimizer = SuperPolyak.SuperPolyak(param, max_elts = 40, eta_est=2)\n",
    "loss_function = z.loss()\n",
    "def closure():\n",
    "    optimizer.zero_grad()\n",
    "    loss = loss_function(init)\n",
    "    loss.backward()\n",
    "    return loss\n",
    "gap = [closure().item()]\n",
    "cumulative_oracle_calls = [0]\n",
    "# A short loop that applies the SuperPolyak subgradient method to the loss function\n",
    "max_oracle_calls = 1000\n",
    "while closure().item() > 1e-10 and cumulative_oracle_calls[-1] < max_oracle_calls:\n",
    "    loss, bundle_idx = optimizer.step(closure)\n",
    "    print(\"Iteration: {}, Loss: {}, Bundle idx: {}\".format(cumulative_oracle_calls[-1], loss, bundle_idx))\n",
    "    cumulative_oracle_calls.append(bundle_idx + cumulative_oracle_calls[-1])\n",
    "    gap.append(closure().item())\n",
    "import matplotlib.pyplot as plt\n",
    "plt.semilogy(cumulative_oracle_calls, gap)\n",
    "plt.xlabel(\"Cumulative oracle calls\")\n",
    "plt.ylabel(\"$f(x) - f^*$\")\n",
    "plt.title(\"2 layer neural network with {} parameters\".format(d))\n",
    "plt.show()"
   ],
   "metadata": {
    "collapsed": false,
    "pycharm": {
     "name": "#%%\n"
    }
   }
  },
  {
   "cell_type": "markdown",
   "source": [
    "# An illustration of coupling SuperPolyak with the Polyak subgradient method"
   ],
   "metadata": {
    "collapsed": false,
    "pycharm": {
     "name": "#%% md\n"
    }
   }
  },
  {
   "cell_type": "code",
   "execution_count": null,
   "outputs": [],
   "source": [
    "# Illustration of util.superpolyak_coupled_with_fallback\n",
    "import SuperPolyak\n",
    "import util\n",
    "import problems\n",
    "d = 100\n",
    "k=2\n",
    "m = 4*d*k\n",
    "z = problems.MaxAffineRegressionProblem(m=m,d=100, k=k)\n",
    "init = z.initializer(1)\n",
    "param = [init]\n",
    "superpolyak_optimizer = SuperPolyak.SuperPolyak(param, max_elts = 40, eta_est=2)\n",
    "polyak_optimizer = SuperPolyak.SuperPolyak(param, max_elts = 1, eta_est=2)\n",
    "loss_function = z.loss()\n",
    "def closure():\n",
    "    superpolyak_optimizer.zero_grad()\n",
    "    loss = loss_function(init)\n",
    "    loss.backward()\n",
    "    return loss\n",
    "gap = [closure().item()]\n",
    "cumulative_oracle_calls = [0]\n",
    "max_inner_iter = 10\n",
    "max_outer_iter = 100\n",
    "oracle_calls, loss_list = util.superpolyak_coupled_with_fallback(closure_superpolyak=closure, closure_fallback=closure, superpolyak_optimizer=superpolyak_optimizer, fallback_optimizer=polyak_optimizer, max_inner_iter=max_inner_iter, tol = 1e-10, max_outer_iter=max_outer_iter, verbose=True)\n",
    "import matplotlib.pyplot as plt\n",
    "plt.semilogy(oracle_calls, loss_list)\n",
    "plt.xlabel(\"Cumulative oracle calls\")\n",
    "plt.ylabel(\"$f(x) - f^*$\")\n",
    "plt.title(\"Max affine regression with {} parameters\".format(d*2))\n",
    "plt.show()"
   ],
   "metadata": {
    "collapsed": false,
    "pycharm": {
     "name": "#%%\n"
    }
   }
  },
  {
   "cell_type": "markdown",
   "source": [
    "# Illustration of using the prox-gradient method as a fallback method for Lasso"
   ],
   "metadata": {
    "collapsed": false,
    "pycharm": {
     "name": "#%% md\n"
    }
   }
  },
  {
   "cell_type": "code",
   "execution_count": null,
   "outputs": [],
   "source": [
    "# Illustration of util.superpolyak_coupled_with_fallback\n",
    "import SuperPolyak\n",
    "import util\n",
    "import problems\n",
    "import proxgradient\n",
    "d = 100\n",
    "k=2\n",
    "m = 4*k\n",
    "z = problems.LassoProblem(m=m,d=d, k=k)\n",
    "init = z.initializer(.01)\n",
    "param = [init]\n",
    "superpolyak_optimizer = SuperPolyak.SuperPolyak(param, max_elts = 1, eta_est=2)\n",
    "proxgradient_optimizer = proxgradient.ProxGradient(param, proxs=[z.prox], lr=z.prox_step)\n",
    "loss_function = z.loss()\n",
    "def closure():\n",
    "    superpolyak_optimizer.zero_grad()\n",
    "    loss = loss_function(init)\n",
    "    loss.backward()\n",
    "    return loss\n",
    "def closure_fallback():\n",
    "    proxgradient_optimizer.zero_grad()\n",
    "    loss = .5*torch.linalg.sum(torch.square(z.A @ init - z.y))\n",
    "    loss.backward()\n",
    "    return loss\n",
    "gap = [closure().item()]\n",
    "cumulative_oracle_calls = [0]\n",
    "max_inner_iter = 100\n",
    "max_outer_iter = 100\n",
    "oracle_calls, loss_list = util.superpolyak_coupled_with_fallback(closure_superpolyak=closure, closure_fallback=closure, superpolyak_optimizer=superpolyak_optimizer, fallback_optimizer=proxgradient_optimizer, max_inner_iter=max_inner_iter, tol = 1e-10, max_outer_iter=max_outer_iter, verbose=True)\n",
    "import matplotlib.pyplot as plt\n",
    "plt.semilogy(oracle_calls, loss_list)\n",
    "plt.xlabel(\"Cumulative oracle calls\")\n",
    "plt.ylabel(\"$f(x) - f^*$\")\n",
    "plt.title(\"Lasso problem with {} parameters\".format(d*2))\n",
    "plt.show()"
   ],
   "metadata": {
    "collapsed": false,
    "pycharm": {
     "name": "#%%\n",
     "is_executing": true
    }
   }
  },
  {
   "cell_type": "markdown",
   "source": [
    "# Illustration of using the prox-gradient method as a fallback method for Lasso"
   ],
   "metadata": {
    "collapsed": false,
    "pycharm": {
     "name": "#%% md\n"
    }
   }
  },
  {
   "cell_type": "code",
   "execution_count": 1,
   "outputs": [
    {
     "name": "stdout",
     "output_type": "stream",
     "text": [
      "Fallback step! Current oracle evaluation:  50 ,Loss =  0.01075642539586557\n",
      "Fallback step! Current oracle evaluation:  100 ,Loss =  0.01075642539586557\n",
      "Fallback step! Current oracle evaluation:  150 ,Loss =  0.01075642539586557\n",
      "Fallback step! Current oracle evaluation:  200 ,Loss =  0.01075642539586557\n",
      "Fallback step! Current oracle evaluation:  250 ,Loss =  0.01075642539586557\n",
      "Fallback step! Current oracle evaluation:  300 ,Loss =  0.01075642539586557\n",
      "Fallback step! Current oracle evaluation:  350 ,Loss =  0.01075642539586557\n",
      "Fallback step! Current oracle evaluation:  400 ,Loss =  0.01075642539586557\n",
      "Fallback step! Current oracle evaluation:  450 ,Loss =  0.01075642539586557\n",
      "Fallback step! Current oracle evaluation:  500 ,Loss =  0.01075642539586557\n",
      "Fallback step! Current oracle evaluation:  550 ,Loss =  0.01075642539586557\n",
      "Fallback step! Current oracle evaluation:  600 ,Loss =  0.01075642539586557\n",
      "Fallback step! Current oracle evaluation:  650 ,Loss =  0.01075642539586557\n",
      "Fallback step! Current oracle evaluation:  700 ,Loss =  0.01075642539586557\n",
      "Fallback step! Current oracle evaluation:  750 ,Loss =  0.01075642539586557\n",
      "Fallback step! Current oracle evaluation:  800 ,Loss =  0.01075642539586557\n",
      "Fallback step! Current oracle evaluation:  850 ,Loss =  0.01075642539586557\n",
      "Fallback step! Current oracle evaluation:  900 ,Loss =  0.01075642539586557\n",
      "Fallback step! Current oracle evaluation:  950 ,Loss =  0.01075642539586557\n",
      "Fallback step! Current oracle evaluation:  1000 ,Loss =  0.01075642539586557\n",
      "Fallback step! Current oracle evaluation:  1050 ,Loss =  0.01075642539586557\n",
      "Fallback step! Current oracle evaluation:  1100 ,Loss =  0.01075642539586557\n",
      "Fallback step! Current oracle evaluation:  1150 ,Loss =  0.01075642539586557\n",
      "Fallback step! Current oracle evaluation:  1200 ,Loss =  0.01075642539586557\n",
      "Fallback step! Current oracle evaluation:  1250 ,Loss =  0.01075642539586557\n",
      "Fallback step! Current oracle evaluation:  1300 ,Loss =  0.01075642539586557\n",
      "Fallback step! Current oracle evaluation:  1350 ,Loss =  0.01075642539586557\n",
      "Fallback step! Current oracle evaluation:  1400 ,Loss =  0.01075642539586557\n",
      "Fallback step! Current oracle evaluation:  1450 ,Loss =  0.01075642539586557\n",
      "Fallback step! Current oracle evaluation:  1500 ,Loss =  0.01075642539586557\n",
      "Fallback step! Current oracle evaluation:  1550 ,Loss =  0.01075642539586557\n",
      "Fallback step! Current oracle evaluation:  1600 ,Loss =  0.01075642539586557\n",
      "Fallback step! Current oracle evaluation:  1650 ,Loss =  0.01075642539586557\n",
      "Fallback step! Current oracle evaluation:  1700 ,Loss =  0.01075642539586557\n",
      "Fallback step! Current oracle evaluation:  1750 ,Loss =  0.01075642539586557\n",
      "Fallback step! Current oracle evaluation:  1800 ,Loss =  0.01075642539586557\n",
      "Fallback step! Current oracle evaluation:  1850 ,Loss =  0.01075642539586557\n",
      "Fallback step! Current oracle evaluation:  1900 ,Loss =  0.01075642539586557\n",
      "Fallback step! Current oracle evaluation:  1950 ,Loss =  0.01075642539586557\n",
      "Fallback step! Current oracle evaluation:  2000 ,Loss =  0.01075642539586557\n",
      "Fallback step! Current oracle evaluation:  2050 ,Loss =  0.01075642539586557\n",
      "Fallback step! Current oracle evaluation:  2100 ,Loss =  0.01075642539586557\n",
      "Fallback step! Current oracle evaluation:  2150 ,Loss =  0.01075642539586557\n",
      "Fallback step! Current oracle evaluation:  2200 ,Loss =  0.01075642539586557\n",
      "Fallback step! Current oracle evaluation:  2250 ,Loss =  0.01075642539586557\n",
      "Fallback step! Current oracle evaluation:  2300 ,Loss =  0.01075642539586557\n",
      "Fallback step! Current oracle evaluation:  2350 ,Loss =  0.01075642539586557\n",
      "Fallback step! Current oracle evaluation:  2400 ,Loss =  0.01075642539586557\n",
      "Fallback step! Current oracle evaluation:  2450 ,Loss =  0.01075642539586557\n",
      "Fallback step! Current oracle evaluation:  2500 ,Loss =  0.01075642539586557\n",
      "Fallback step! Current oracle evaluation:  2550 ,Loss =  0.01075642539586557\n",
      "Fallback step! Current oracle evaluation:  2600 ,Loss =  0.01075642539586557\n",
      "Fallback step! Current oracle evaluation:  2650 ,Loss =  0.01075642539586557\n",
      "Fallback step! Current oracle evaluation:  2700 ,Loss =  0.01075642539586557\n",
      "Fallback step! Current oracle evaluation:  2750 ,Loss =  0.01075642539586557\n",
      "Fallback step! Current oracle evaluation:  2800 ,Loss =  0.01075642539586557\n",
      "Fallback step! Current oracle evaluation:  2850 ,Loss =  0.01075642539586557\n",
      "Fallback step! Current oracle evaluation:  2900 ,Loss =  0.01075642539586557\n",
      "Fallback step! Current oracle evaluation:  2950 ,Loss =  0.01075642539586557\n",
      "Fallback step! Current oracle evaluation:  3000 ,Loss =  0.01075642539586557\n",
      "Fallback step! Current oracle evaluation:  3050 ,Loss =  0.01075642539586557\n",
      "Fallback step! Current oracle evaluation:  3100 ,Loss =  0.01075642539586557\n",
      "Fallback step! Current oracle evaluation:  3150 ,Loss =  0.01075642539586557\n",
      "Fallback step! Current oracle evaluation:  3200 ,Loss =  0.01075642539586557\n",
      "Fallback step! Current oracle evaluation:  3250 ,Loss =  0.01075642539586557\n",
      "Fallback step! Current oracle evaluation:  3300 ,Loss =  0.01075642539586557\n",
      "Fallback step! Current oracle evaluation:  3350 ,Loss =  0.01075642539586557\n",
      "Fallback step! Current oracle evaluation:  3400 ,Loss =  0.01075642539586557\n",
      "Fallback step! Current oracle evaluation:  3450 ,Loss =  0.01075642539586557\n",
      "Fallback step! Current oracle evaluation:  3500 ,Loss =  0.01075642539586557\n",
      "Fallback step! Current oracle evaluation:  3550 ,Loss =  0.01075642539586557\n",
      "Fallback step! Current oracle evaluation:  3600 ,Loss =  0.01075642539586557\n",
      "Fallback step! Current oracle evaluation:  3650 ,Loss =  0.01075642539586557\n",
      "Fallback step! Current oracle evaluation:  3700 ,Loss =  0.01075642539586557\n",
      "Fallback step! Current oracle evaluation:  3750 ,Loss =  0.01075642539586557\n",
      "Fallback step! Current oracle evaluation:  3800 ,Loss =  0.01075642539586557\n",
      "Fallback step! Current oracle evaluation:  3850 ,Loss =  0.01075642539586557\n",
      "Fallback step! Current oracle evaluation:  3900 ,Loss =  0.01075642539586557\n",
      "Fallback step! Current oracle evaluation:  3950 ,Loss =  0.01075642539586557\n",
      "Fallback step! Current oracle evaluation:  4000 ,Loss =  0.01075642539586557\n",
      "Fallback step! Current oracle evaluation:  4050 ,Loss =  0.01075642539586557\n",
      "Fallback step! Current oracle evaluation:  4100 ,Loss =  0.01075642539586557\n",
      "Fallback step! Current oracle evaluation:  4150 ,Loss =  0.01075642539586557\n",
      "Fallback step! Current oracle evaluation:  4200 ,Loss =  0.01075642539586557\n",
      "Fallback step! Current oracle evaluation:  4250 ,Loss =  0.01075642539586557\n",
      "Fallback step! Current oracle evaluation:  4300 ,Loss =  0.01075642539586557\n",
      "Fallback step! Current oracle evaluation:  4350 ,Loss =  0.01075642539586557\n",
      "Fallback step! Current oracle evaluation:  4400 ,Loss =  0.01075642539586557\n",
      "Fallback step! Current oracle evaluation:  4450 ,Loss =  0.01075642539586557\n",
      "Fallback step! Current oracle evaluation:  4500 ,Loss =  0.01075642539586557\n",
      "Fallback step! Current oracle evaluation:  4550 ,Loss =  0.01075642539586557\n",
      "Fallback step! Current oracle evaluation:  4600 ,Loss =  0.01075642539586557\n",
      "Fallback step! Current oracle evaluation:  4650 ,Loss =  0.01075642539586557\n",
      "Fallback step! Current oracle evaluation:  4700 ,Loss =  0.01075642539586557\n",
      "Fallback step! Current oracle evaluation:  4750 ,Loss =  0.01075642539586557\n",
      "Fallback step! Current oracle evaluation:  4800 ,Loss =  0.01075642539586557\n",
      "Fallback step! Current oracle evaluation:  4850 ,Loss =  0.01075642539586557\n",
      "Fallback step! Current oracle evaluation:  4900 ,Loss =  0.01075642539586557\n",
      "Fallback step! Current oracle evaluation:  4950 ,Loss =  0.01075642539586557\n",
      "Fallback step! Current oracle evaluation:  5000 ,Loss =  0.01075642539586557\n"
     ]
    },
    {
     "data": {
      "text/plain": "<Figure size 432x288 with 1 Axes>",
      "image/png": "[encoded data removed]"
     },
     "metadata": {
      "needs_background": "light"
     },
     "output_type": "display_data"
    }
   ],
   "source": [
    "# Illustration of util.superpolyak_coupled_with_fallback\n",
    "import SuperPolyak\n",
    "import util\n",
    "import problems\n",
    "import proxgradient\n",
    "d = 100\n",
    "k=2\n",
    "m = 4*k\n",
    "z = problems.LassoProblem(m=m,d=d, k=k)\n",
    "init = z.initializer(.01)\n",
    "param = [init]\n",
    "superpolyak_optimizer = SuperPolyak.SuperPolyak(param, max_elts = 40, eta_est=2)\n",
    "proxgradient_optimizer = proxgradient.ProxGradient(param, proxs=[z.prox], lr=z.τ/10)\n",
    "loss_function = z.loss()\n",
    "def closure():\n",
    "    superpolyak_optimizer.zero_grad()\n",
    "    loss = loss_function(init)\n",
    "    loss.backward()\n",
    "    return loss\n",
    "def closure_fallback():\n",
    "    proxgradient_optimizer.zero_grad()\n",
    "    loss = .5*torch.linalg.sum(torch.square(z.A @ init - z.y))\n",
    "    loss.backward()\n",
    "    return loss\n",
    "gap = [closure().item()]\n",
    "cumulative_oracle_calls = [0]\n",
    "max_inner_iter = 10\n",
    "max_outer_iter = 100\n",
    "oracle_calls, loss_list = util.superpolyak_coupled_with_fallback(closure_superpolyak=closure, closure_fallback=closure, superpolyak_optimizer=superpolyak_optimizer, fallback_optimizer=proxgradient_optimizer, max_inner_iter=max_inner_iter, tol = 1e-10, max_outer_iter=max_outer_iter, verbose=True)\n",
    "import matplotlib.pyplot as plt\n",
    "plt.semilogy(oracle_calls, loss_list)\n",
    "plt.xlabel(\"Cumulative oracle calls\")\n",
    "plt.ylabel(\"$f(x) - f^*$\")\n",
    "plt.title(\"Lasso problem with {} parameters\".format(d*2))\n",
    "plt.show()"
   ],
   "metadata": {
    "collapsed": false,
    "pycharm": {
     "name": "#%%\n"
    }
   }
  },
  {
   "cell_type": "code",
   "execution_count": null,
   "outputs": [],
   "source": [],
   "metadata": {
    "collapsed": false,
    "pycharm": {
     "name": "#%%\n"
    }
   }
  }
 ],
 "metadata": {
  "kernelspec": {
   "display_name": "Python 3 (ipykernel)",
   "language": "python",
   "name": "python3"
  },
  "language_info": {
   "codemirror_mode": {
    "name": "ipython",
    "version": 3
   },
   "file_extension": ".py",
   "mimetype": "text/x-python",
   "name": "python",
   "nbconvert_exporter": "python",
   "pygments_lexer": "ipython3",
   "version": "3.10.7"
  }
 },
 "nbformat": 4,
 "nbformat_minor": 1
}