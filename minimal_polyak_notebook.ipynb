{
 "cells": [
  {
   "cell_type": "code",
   "execution_count": null,
   "metadata": {
    "pycharm": {
     "name": "#%%\n"
    }
   },
   "outputs": [],
   "source": [
    "import torch\n",
    "import polyak\n",
    "\n",
    "\n",
    "x = torch.randn(2, requires_grad=True, dtype=torch.double)\n",
    "def loss_function():\n",
    "    return sum(torch.abs(x))\n",
    "\n",
    "def closure():\n",
    "    optimizer.zero_grad()\n",
    "    loss = loss_function()\n",
    "    loss.backward()\n",
    "    return loss\n",
    "\n",
    "param = [x]\n",
    "optimizer = polyak.Polyak(param)\n",
    "# A short loop that applies the Polyak subgradient method to the loss function\n",
    "for i in range(100):\n",
    "    loss = optimizer.step(closure)\n",
    "    print(\"Iteration: {}, Loss: {}\".format(i, loss))\n",
    "    print(\"x: {}\".format(x.data))\n"
   ]
  },
  {
   "cell_type": "code",
   "execution_count": null,
   "metadata": {
    "pycharm": {
     "name": "#%%\n"
    }
   },
   "outputs": [],
   "source": [
    "# Quick working test of superpolyak with numpy functions\n",
    "import util\n",
    "import numpy as np\n",
    "import torch\n",
    "\n",
    "def f(y):\n",
    "    return np.sum(np.abs(y))\n",
    "\n",
    "def gradf(y):\n",
    "    return np.sign(y)\n",
    "\n",
    "d = 5\n",
    "max_elts = d\n",
    "y0 = np.random.randn(d)\n",
    "while f(y0) > 1e-20:\n",
    "    y, d = util.build_bundle(f=f, gradf=gradf, y0=y0, tau=1.,eta_est=1.5,min_f=0., max_elts=max_elts)\n",
    "    y0 = y\n",
    "    print(\"f(y)\", f(y0))"
   ]
  },
  {
   "cell_type": "code",
   "execution_count": null,
   "outputs": [],
   "source": [
    "# A pytorch compatible version of the above code.\n",
    "import util\n",
    "import numpy as np\n",
    "import torch\n",
    "\n",
    "d = 5\n",
    "max_elts = d\n",
    "x = torch.randn(d, requires_grad=True, dtype=torch.double)\n",
    "\n",
    "def f():\n",
    "    return torch.sum(abs(x))\n",
    "\n",
    "# Closure function to allow us to call backward.\n",
    "def closure():\n",
    "    if x.grad is None:\n",
    "        x.grad = torch.zeros_like(x)\n",
    "    else:\n",
    "        x.grad.data.zero_()\n",
    "    loss = f()\n",
    "    loss.backward()\n",
    "    return loss\n",
    "\n",
    "current_iter = 0\n",
    "while closure().item() > 1e-20 and current_iter < 100:\n",
    "    y, bundle_idx = util.build_bundle_torch(closure, x=x, tau=np.inf,eta_est=1.5,min_f=0., max_elts=max_elts)\n",
    "    x.data = torch.Tensor(y)\n",
    "    print(\"f(y)\", closure().item())\n",
    "    print(\"Bundle index\", bundle_idx)\n",
    "    current_iter += 1"
   ],
   "metadata": {
    "collapsed": false,
    "pycharm": {
     "name": "#%%\n"
    }
   }
  },
  {
   "cell_type": "code",
   "execution_count": null,
   "outputs": [],
   "source": [
    "# A version of the previous code that supports parameter groups.\n",
    "import numpy as np\n",
    "import torch\n",
    "import torch.nn.functional as F\n",
    "\n",
    "d = 5\n",
    "max_elts = d\n",
    "x = torch.randn(d, requires_grad=True, dtype=torch.double)\n",
    "\n",
    "def f():\n",
    "    return torch.sum(torch.abs(x))\n",
    "\n",
    "\n",
    "# Closure function to allow us to call backward.\n",
    "def closure():\n",
    "    if x.grad is None:\n",
    "        x.grad = torch.zeros_like(x)\n",
    "    else:\n",
    "        x.grad.data.zero_()\n",
    "    loss = f()\n",
    "    loss.backward()\n",
    "    return loss\n",
    "\n",
    "current_iter = 0\n",
    "while closure().item() > 1e-20 and current_iter < 100:\n",
    "    _, bundle_idx = util.build_bundle_torch_param_groups(closure, params=[x], tau=np.inf,eta_est=1.5,min_f=0., max_elts=max_elts)\n",
    "    # x.data = torch.Tensor(y)\n",
    "    print(\"f(y)\", closure().item())\n",
    "    print(\"Bundle index\", bundle_idx)\n",
    "    current_iter += 1"
   ],
   "metadata": {
    "collapsed": false,
    "pycharm": {
     "name": "#%%\n"
    }
   }
  },
  {
   "cell_type": "code",
   "execution_count": 27,
   "outputs": [
    {
     "name": "stdout",
     "output_type": "stream",
     "text": [
      "number of parameters 2610\n",
      "bundle size 200\n"
     ]
    },
    {
     "ename": "AttributeError",
     "evalue": "'Net' object has no attribute 'conv1'",
     "output_type": "error",
     "traceback": [
      "\u001B[0;31m---------------------------------------------------------------------------\u001B[0m",
      "\u001B[0;31mAttributeError\u001B[0m                            Traceback (most recent call last)",
      "Input \u001B[0;32mIn [27]\u001B[0m, in \u001B[0;36m<cell line: 35>\u001B[0;34m()\u001B[0m\n\u001B[1;32m     33\u001B[0m \u001B[38;5;66;03m# fake training data\u001B[39;00m\n\u001B[1;32m     34\u001B[0m x \u001B[38;5;241m=\u001B[39m torch\u001B[38;5;241m.\u001B[39mrandn(\u001B[38;5;241m100\u001B[39m, \u001B[38;5;241m2\u001B[39m, dtype\u001B[38;5;241m=\u001B[39mtorch\u001B[38;5;241m.\u001B[39mdouble)\n\u001B[0;32m---> 35\u001B[0m y \u001B[38;5;241m=\u001B[39m \u001B[43mnet\u001B[49m\u001B[43m(\u001B[49m\u001B[43mx\u001B[49m\u001B[43m)\u001B[49m\u001B[38;5;241m.\u001B[39mdetach()\u001B[38;5;241m.\u001B[39mclone()\u001B[38;5;241m.\u001B[39mrequires_grad_(\u001B[38;5;28;01mFalse\u001B[39;00m)\n\u001B[1;32m     36\u001B[0m \u001B[38;5;66;03m# Reset the parameters\u001B[39;00m\n\u001B[1;32m     37\u001B[0m net \u001B[38;5;241m=\u001B[39m Net()\n",
      "File \u001B[0;32m~/.pyenv/versions/3.10.4/lib/python3.10/site-packages/torch/nn/modules/module.py:1131\u001B[0m, in \u001B[0;36mModule._call_impl\u001B[0;34m(self, *input, **kwargs)\u001B[0m\n\u001B[1;32m   1127\u001B[0m \u001B[38;5;66;03m# If we don't have any hooks, we want to skip the rest of the logic in\u001B[39;00m\n\u001B[1;32m   1128\u001B[0m \u001B[38;5;66;03m# this function, and just call forward.\u001B[39;00m\n\u001B[1;32m   1129\u001B[0m \u001B[38;5;28;01mif\u001B[39;00m \u001B[38;5;129;01mnot\u001B[39;00m (\u001B[38;5;28mself\u001B[39m\u001B[38;5;241m.\u001B[39m_backward_hooks \u001B[38;5;129;01mor\u001B[39;00m \u001B[38;5;28mself\u001B[39m\u001B[38;5;241m.\u001B[39m_forward_hooks \u001B[38;5;129;01mor\u001B[39;00m \u001B[38;5;28mself\u001B[39m\u001B[38;5;241m.\u001B[39m_forward_pre_hooks \u001B[38;5;129;01mor\u001B[39;00m _global_backward_hooks\n\u001B[1;32m   1130\u001B[0m         \u001B[38;5;129;01mor\u001B[39;00m _global_forward_hooks \u001B[38;5;129;01mor\u001B[39;00m _global_forward_pre_hooks):\n\u001B[0;32m-> 1131\u001B[0m     \u001B[38;5;28;01mreturn\u001B[39;00m \u001B[43mforward_call\u001B[49m\u001B[43m(\u001B[49m\u001B[38;5;241;43m*\u001B[39;49m\u001B[38;5;28;43minput\u001B[39;49m\u001B[43m,\u001B[49m\u001B[43m \u001B[49m\u001B[38;5;241;43m*\u001B[39;49m\u001B[38;5;241;43m*\u001B[39;49m\u001B[43mkwargs\u001B[49m\u001B[43m)\u001B[49m\n\u001B[1;32m   1132\u001B[0m \u001B[38;5;66;03m# Do not call functions when jit is used\u001B[39;00m\n\u001B[1;32m   1133\u001B[0m full_backward_hooks, non_full_backward_hooks \u001B[38;5;241m=\u001B[39m [], []\n",
      "Input \u001B[0;32mIn [27]\u001B[0m, in \u001B[0;36mNet.forward\u001B[0;34m(self, x)\u001B[0m\n\u001B[1;32m     21\u001B[0m x \u001B[38;5;241m=\u001B[39m \u001B[38;5;28mself\u001B[39m\u001B[38;5;241m.\u001B[39mfc2(x)\n\u001B[1;32m     22\u001B[0m \u001B[38;5;66;03m# add another relu layer\u001B[39;00m\n\u001B[0;32m---> 23\u001B[0m x \u001B[38;5;241m=\u001B[39m F\u001B[38;5;241m.\u001B[39mrelu(\u001B[38;5;28;43mself\u001B[39;49m\u001B[38;5;241;43m.\u001B[39;49m\u001B[43mconv1\u001B[49m(x))\n\u001B[1;32m     24\u001B[0m \u001B[38;5;28;01mreturn\u001B[39;00m x\n",
      "File \u001B[0;32m~/.pyenv/versions/3.10.4/lib/python3.10/site-packages/torch/nn/modules/module.py:1208\u001B[0m, in \u001B[0;36mModule.__getattr__\u001B[0;34m(self, name)\u001B[0m\n\u001B[1;32m   1206\u001B[0m     \u001B[38;5;28;01mif\u001B[39;00m name \u001B[38;5;129;01min\u001B[39;00m modules:\n\u001B[1;32m   1207\u001B[0m         \u001B[38;5;28;01mreturn\u001B[39;00m modules[name]\n\u001B[0;32m-> 1208\u001B[0m \u001B[38;5;28;01mraise\u001B[39;00m \u001B[38;5;167;01mAttributeError\u001B[39;00m(\u001B[38;5;124m\"\u001B[39m\u001B[38;5;124m'\u001B[39m\u001B[38;5;132;01m{}\u001B[39;00m\u001B[38;5;124m'\u001B[39m\u001B[38;5;124m object has no attribute \u001B[39m\u001B[38;5;124m'\u001B[39m\u001B[38;5;132;01m{}\u001B[39;00m\u001B[38;5;124m'\u001B[39m\u001B[38;5;124m\"\u001B[39m\u001B[38;5;241m.\u001B[39mformat(\n\u001B[1;32m   1209\u001B[0m     \u001B[38;5;28mtype\u001B[39m(\u001B[38;5;28mself\u001B[39m)\u001B[38;5;241m.\u001B[39m\u001B[38;5;18m__name__\u001B[39m, name))\n",
      "\u001B[0;31mAttributeError\u001B[0m: 'Net' object has no attribute 'conv1'"
     ]
    }
   ],
   "source": [
    "# Fitting a small neural network with pytorch.\n",
    "\n",
    "import torch\n",
    "import torch.nn as nn\n",
    "import torch.nn.functional as F\n",
    "import torch.optim as optim\n",
    "import numpy as np\n",
    "import util\n",
    "\n",
    "class Net(nn.Module):\n",
    "    def __init__(self):\n",
    "        super(Net, self).__init__()\n",
    "        self.fc1 = nn.Linear(2, 200, dtype=torch.double)\n",
    "        self.fc2 = nn.Linear(200, 1, dtype=torch.double)\n",
    "        # add a convolutional layer of the appropriate __sizeof__\n",
    "\n",
    "    def forward(self, x):\n",
    "        x = F.relu(self.fc1(x))\n",
    "        x = self.fc2(x)\n",
    "        # add another relu layer\n",
    "        # x = F.relu(self.conv1(x))\n",
    "        return x\n",
    "\n",
    "net = Net()\n",
    "# Let d be the number of parameters in net\n",
    "d = sum(p.numel() for p in net.parameters() if p.requires_grad)\n",
    "print(\"number of parameters\", d)\n",
    "max_elts = int(200)\n",
    "print(\"bundle size\", max_elts)\n",
    "\n",
    "# fake training data\n",
    "x = torch.randn(100, 2, dtype=torch.double)\n",
    "y = net(x).detach().clone().requires_grad_(False)\n",
    "# Reset the parameters\n",
    "net = Net()\n",
    "\n",
    "# a loss function\n",
    "def loss_function():\n",
    "    return sum(torch.abs(net(x) - y))\n",
    "\n",
    "# a closure function to allow us to call backward\n",
    "def closure():\n",
    "    net.zero_grad()\n",
    "    loss = loss_function()\n",
    "    loss.backward()\n",
    "    return loss\n",
    "\n",
    "max_oracle_calls = 1000\n",
    "params = list(net.parameters())\n",
    "gap = [closure().item()]\n",
    "cumulative_oracle_calls = [0]\n",
    "while closure().item() > 1e-16 and cumulative_oracle_calls[-1] < max_oracle_calls:\n",
    "    _, bundle_idx = util.build_bundle_torch_param_groups(closure, params=params, tau=np.inf,eta_est=.1,min_f=0., max_elts=max_elts)\n",
    "    print(\"Iteration: \", cumulative_oracle_calls[-1], \", Loss: \", closure().item(), \", Bundle_exit_step \", bundle_idx)\n",
    "    print(\"Bundle index\", bundle_idx)\n",
    "    cumulative_oracle_calls.append(bundle_idx + cumulative_oracle_calls[-1])\n",
    "    gap.append(closure().item())\n",
    "\n",
    "# A matplotlib semilogylog plot of the gap between the loss.\n",
    "# the x axes is the cumulative oracle calls\n",
    "# the y axes is the loss\n",
    "import matplotlib.pyplot as plt\n",
    "plt.semilogy(cumulative_oracle_calls, gap)\n",
    "# label the x axes cumulative oracle calls\n",
    "# label the y axes the $f(x) - f^*$ gap\n",
    "plt.xlabel(\"Cumulative oracle calls\")\n",
    "plt.ylabel(\"$f(x) - f^*$\")\n",
    "# title the plot: 2 layer neural network with d parameters, where d is replaced by its numerical value\n",
    "plt.title(\"2 layer neural network with {} parameters\".format(d))\n",
    "plt.show()\n"
   ],
   "metadata": {
    "collapsed": false,
    "pycharm": {
     "name": "#%%\n"
    }
   }
  },
  {
   "cell_type": "code",
   "execution_count": null,
   "outputs": [],
   "source": [],
   "metadata": {
    "collapsed": false,
    "pycharm": {
     "name": "#%%\n"
    }
   }
  }
 ],
 "metadata": {
  "kernelspec": {
   "display_name": "Python 3 (ipykernel)",
   "language": "python",
   "name": "python3"
  },
  "language_info": {
   "codemirror_mode": {
    "name": "ipython",
    "version": 3
   },
   "file_extension": ".py",
   "mimetype": "text/x-python",
   "name": "python",
   "nbconvert_exporter": "python",
   "pygments_lexer": "ipython3",
   "version": "3.10.7"
  }
 },
 "nbformat": 4,
 "nbformat_minor": 1
}