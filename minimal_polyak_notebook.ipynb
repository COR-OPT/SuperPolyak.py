{
 "cells": [
  {
   "cell_type": "code",
   "execution_count": null,
   "metadata": {
    "pycharm": {
     "name": "#%%\n"
    }
   },
   "outputs": [],
   "source": [
    "import torch\n",
    "import polyak\n",
    "\n",
    "\n",
    "x = torch.randn(2, requires_grad=True, dtype=torch.double)\n",
    "def loss_function():\n",
    "    return sum(torch.abs(x))\n",
    "\n",
    "def closure():\n",
    "    optimizer.zero_grad()\n",
    "    loss = loss_function()\n",
    "    loss.backward()\n",
    "    return loss\n",
    "\n",
    "param = [x]\n",
    "optimizer = polyak.Polyak(param)\n",
    "# A short loop that applies the Polyak subgradient method to the loss function\n",
    "for i in range(100):\n",
    "    loss = optimizer.step(closure)\n",
    "    print(\"Iteration: {}, Loss: {}\".format(i, loss))\n",
    "    print(\"x: {}\".format(x.data))\n"
   ]
  },
  {
   "cell_type": "code",
   "execution_count": null,
   "metadata": {
    "pycharm": {
     "name": "#%%\n"
    }
   },
   "outputs": [],
   "source": [
    "# Quick working test of superpolyak with numpy functions\n",
    "import util\n",
    "import numpy as np\n",
    "import torch\n",
    "\n",
    "def f(y):\n",
    "    return np.sum(np.abs(y))\n",
    "\n",
    "def gradf(y):\n",
    "    return np.sign(y)\n",
    "\n",
    "d = 5\n",
    "max_elts = d\n",
    "y0 = np.random.randn(d)\n",
    "while f(y0) > 1e-20:\n",
    "    y, d = util.build_bundle(f=f, gradf=gradf, y0=y0, tau=1.,eta_est=1.5,min_f=0., max_elts=max_elts)\n",
    "    y0 = y\n",
    "    print(\"f(y)\", f(y0))"
   ]
  },
  {
   "cell_type": "code",
   "execution_count": null,
   "metadata": {
    "pycharm": {
     "is_executing": true,
     "name": "#%%\n"
    }
   },
   "outputs": [],
   "source": [
    "# A pytorch compatible version of the above code.\n",
    "import util\n",
    "import numpy as np\n",
    "import torch\n",
    "\n",
    "d = 5\n",
    "max_elts = d\n",
    "x = torch.randn(d, requires_grad=True, dtype=torch.double)\n",
    "# x.data = x.data / torch.norm(x.data)\n",
    "def f():\n",
    "    return torch.sum(abs(x))\n",
    "\n",
    "# Closure function to allow us to call backward.\n",
    "def closure():\n",
    "    if x.grad is None:\n",
    "        x.grad = torch.zeros_like(x)\n",
    "    else:\n",
    "        x.grad.data.zero_()\n",
    "    loss = f()\n",
    "    loss.backward()\n",
    "    return loss\n",
    "\n",
    "current_iter = 0\n",
    "while closure().item() > 1e-20 and current_iter < 100:\n",
    "    y, bundle_idx = util.build_bundle_torch(closure, x=x, tau=np.inf,eta_est=1.5,min_f=0., max_elts=max_elts)\n",
    "    x.data = torch.Tensor(y)\n",
    "    print(\"f(y)\", closure().item())\n",
    "    print(\"Bundle index\", bundle_idx)\n",
    "    current_iter += 1"
   ]
  }
 ],
 "metadata": {
  "kernelspec": {
   "display_name": "Python 3 (ipykernel)",
   "language": "python",
   "name": "python3"
  },
  "language_info": {
   "codemirror_mode": {
    "name": "ipython",
    "version": 3
   },
   "file_extension": ".py",
   "mimetype": "text/x-python",
   "name": "python",
   "nbconvert_exporter": "python",
   "pygments_lexer": "ipython3",
   "version": "3.10.7"
  }
 },
 "nbformat": 4,
 "nbformat_minor": 1
}
