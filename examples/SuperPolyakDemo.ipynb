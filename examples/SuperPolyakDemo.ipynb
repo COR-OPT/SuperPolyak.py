{
 "cells": [
  {
   "cell_type": "code",
   "execution_count": 1,
   "metadata": {
    "pycharm": {
     "name": "#%%\n"
    }
   },
   "outputs": [],
   "source": [
    "# Import solvers from superpolyak library\n",
    "from superpolyak import (\n",
    "    AlternatingProjections,\n",
    "    BundleLinearSystemSolver,\n",
    "    NewtonCG,\n",
    "    ProxGradient,\n",
    "    SuperPolyak,\n",
    ")\n",
    "from superpolyak.util import superpolyak_coupled_with_fallback\n",
    "\n",
    "# Import problems library\n",
    "import problems\n",
    "\n",
    "# Non-superpolyak imports\n",
    "import numpy as np\n",
    "import torch\n",
    "import matplotlib.pyplot as plt\n",
    "\n",
    "# Fix random seeds\n",
    "torch.manual_seed(0)\n",
    "np.random.seed(0)"
   ]
  },
  {
   "cell_type": "markdown",
   "metadata": {
    "pycharm": {
     "name": "#%% md\n"
    }
   },
   "source": [
    "# Optimizing the $\\ell_1$ norm with SuperPolyak optimizer class\n",
    "\n",
    "In this cell, we use the SuperPolyak optimizer class to optimize the l1 norm:\n",
    "$$\n",
    "f(x) = \\|x\\|_1.\n",
    "$$"
   ]
  },
  {
   "cell_type": "code",
   "execution_count": 3,
   "metadata": {
    "pycharm": {
     "name": "#%%\n"
    }
   },
   "outputs": [
    {
     "name": "stdout",
     "output_type": "stream",
     "text": [
      "f(y) 0.017680783753978746\n",
      "Bundle index 10\n",
      "f(y) 3.571858918421277e-05\n",
      "Bundle index 6\n",
      "f(y) 3.0808618437125235e-11\n",
      "Bundle index 10\n",
      "f(y) 4.574131072833515e-24\n",
      "Bundle index 10\n"
     ]
    }
   ],
   "source": [
    "# Problem dimension\n",
    "d = 10\n",
    "# Number of Equations:\n",
    "max_elts = d  # try 1, 2, 3, d.\n",
    "# The superlinear contraction exponent\n",
    "eta_est = 1.5  # try .1, .5, 1, 1.5, 2\n",
    "# The param.\n",
    "x = torch.randn(d, requires_grad=True, dtype=torch.double)\n",
    "\n",
    "# Definition of l1 norm.\n",
    "def f():\n",
    "    return torch.sum(abs(x))\n",
    "\n",
    "\n",
    "# Define the Superpolyak Optimizer.\n",
    "optimizer = SuperPolyak([x], max_elts=max_elts, eta_est=eta_est)\n",
    "# Closure function to allow us to call backward.\n",
    "def closure():\n",
    "    optimizer.zero_grad()\n",
    "    loss = f()\n",
    "    loss.backward()\n",
    "    return loss\n",
    "\n",
    "\n",
    "current_iter = 0\n",
    "while closure().item() > 1e-20 and current_iter < 100:\n",
    "    loss, bundle_index = optimizer.step(closure)\n",
    "    print(\"f(y)\", closure().item())\n",
    "    # the number of equations that were used: bundle_index <= max_elts.\n",
    "    print(\"Bundle index\", bundle_index)\n",
    "    current_iter += 1"
   ]
  },
  {
   "cell_type": "markdown",
   "metadata": {
    "pycharm": {
     "name": "#%% md\n"
    }
   },
   "source": [
    "# Optimizing a small neural network with SuperPolyak\n",
    "\n",
    "We fit a small 2 layer neural network $F$ to random gaussian data $(x,y)$. The loss function is\n",
    "$$\n",
    "f(x) = \\frac{1}{n}\\|F(x) - y\\|_1\n",
    "$$\n",
    "You can change $\\ell_1$ to an $\\ell_p$ norm and expect the same performance."
   ]
  },
  {
   "cell_type": "code",
   "execution_count": 4,
   "metadata": {
    "pycharm": {
     "name": "#%%\n"
    }
   },
   "outputs": [
    {
     "name": "stdout",
     "output_type": "stream",
     "text": [
      "number of parameters 204001\n",
      "bundle size 200\n",
      "Iteration:  0 , Loss:  0.05756852549668507 , Bundle_exit_step  200\n",
      "Iteration:  200 , Loss:  0.012956305931328856 , Bundle_exit_step  21\n",
      "Iteration:  221 , Loss:  0.0013905339738713267 , Bundle_exit_step  30\n",
      "Iteration:  251 , Loss:  4.6760355786759286e-05 , Bundle_exit_step  42\n",
      "Iteration:  293 , Loss:  2.8143861965750083e-07 , Bundle_exit_step  62\n",
      "Iteration:  355 , Loss:  1.1229411324420457e-10 , Bundle_exit_step  88\n",
      "Iteration:  443 , Loss:  2.2177398806277893e-13 , Bundle_exit_step  200\n"
     ]
    },
    {
     "data": {
      "text/plain": "<Figure size 432x288 with 1 Axes>",
      "image/png": "[encoded data removed]"
     },
     "metadata": {
      "needs_background": "light"
     },
     "output_type": "display_data"
    }
   ],
   "source": [
    "# Fitting a small neural network with pytorch.\n",
    "import torch.nn as nn\n",
    "import torch.nn.functional as F\n",
    "\n",
    "input_size = 100\n",
    "hidden_unit_size = 2000\n",
    "\n",
    "\n",
    "class Net(nn.Module):\n",
    "    def __init__(self):\n",
    "        super(Net, self).__init__()\n",
    "        self.fc1 = nn.Linear(input_size, hidden_unit_size, dtype=torch.double)\n",
    "        self.fc2 = nn.Linear(hidden_unit_size, 1, dtype=torch.double)\n",
    "\n",
    "    def forward(self, x):\n",
    "        x = F.relu(self.fc1(x))\n",
    "        x = self.fc2(x)\n",
    "        return x\n",
    "\n",
    "\n",
    "net = Net()\n",
    "# Let d be the number of parameters in net\n",
    "d = sum(p.numel() for p in net.parameters() if p.requires_grad)\n",
    "print(\"number of parameters\", d)\n",
    "# Number of equations\n",
    "max_elts = int(200)\n",
    "print(\"bundle size\", max_elts)\n",
    "# The superlinear contraction exponent\n",
    "eta_est = 0.5\n",
    "\n",
    "# Fake training data\n",
    "x = torch.randn(1000, input_size, dtype=torch.double)\n",
    "y = net(x).detach().clone().requires_grad_(False)\n",
    "\n",
    "# Reset the parameters to a random initialization.\n",
    "net = Net()\n",
    "\n",
    "# Define the l1 loss.\n",
    "def loss_function():\n",
    "    return sum(torch.abs(net(x) - y))\n",
    "\n",
    "\n",
    "# a closure function to allow us to call backward\n",
    "max_oracle_calls = 10000\n",
    "params = list(net.parameters())\n",
    "# Set the linsys_solver to be QR based.\n",
    "linsys_solver = BundleLinearSystemSolver.QR\n",
    "\n",
    "# Define the Superpolyak Optimizer.\n",
    "optimizer = SuperPolyak(\n",
    "    params, max_elts=max_elts, eta_est=eta_est, linsys_solver=linsys_solver\n",
    ")\n",
    "\n",
    "\n",
    "# Define the closure function.\n",
    "def closure():\n",
    "    optimizer.zero_grad()\n",
    "    loss = loss_function()\n",
    "    loss.backward()\n",
    "    return loss\n",
    "\n",
    "\n",
    "# Bookkeeping\n",
    "gap = [closure().item()]\n",
    "cumulative_oracle_calls = [0]\n",
    "\n",
    "while closure().item() > 1e-10 and cumulative_oracle_calls[-1] < max_oracle_calls:\n",
    "    loss, bundle_idx = optimizer.step(closure)\n",
    "    print(\n",
    "        \"Iteration: \",\n",
    "        cumulative_oracle_calls[-1],\n",
    "        \", Loss: \",\n",
    "        closure().item(),\n",
    "        \", Bundle_exit_step \",  # the number of equations in the linear system.\n",
    "        bundle_idx,\n",
    "    )\n",
    "    cumulative_oracle_calls.append(bundle_idx + cumulative_oracle_calls[-1])\n",
    "    gap.append(closure().item())\n",
    "\n",
    "\n",
    "plt.semilogy(cumulative_oracle_calls, gap)\n",
    "plt.xlabel(\"Cumulative oracle calls\")\n",
    "plt.ylabel(\"$f(x) - f^*$\")\n",
    "plt.title(\"2 layer neural network with {} parameters\".format(d))\n",
    "plt.show()"
   ]
  },
  {
   "cell_type": "markdown",
   "metadata": {
    "pycharm": {
     "name": "#%% md\n"
    }
   },
   "source": [
    "# Fitting a 1-layer neural network with max pooling via the problems.py class\n",
    "\n",
    "We have included a module called `problems.py` that allows you to easily define several \"random\" problem instances. In the remaining examples, we're going to use this module to define several problems.\n",
    "\n",
    "In this first example, we generate a 1 layer neural network with max pooling, $F$, and fit it to random Gaussian data $(x, y)$, where $y = F(x)$. The loss function is\n",
    "$$\n",
    "f(x) = \\frac{1}{n}\\|F(x) - y\\|_1\n",
    "$$\n"
   ]
  },
  {
   "cell_type": "code",
   "execution_count": 5,
   "metadata": {
    "pycharm": {
     "name": "#%%\n"
    }
   },
   "outputs": [
    {
     "name": "stdout",
     "output_type": "stream",
     "text": [
      "Iteration: 0, Loss: 0.19093503876451545, Bundle idx: 40\n",
      "Iteration: 40, Loss: 0.006060019299737893, Bundle idx: 10\n",
      "Iteration: 50, Loss: 1.4406474825201804e-06, Bundle idx: 40\n",
      "Iteration: 90, Loss: 1.3070308734625114e-12, Bundle idx: 40\n"
     ]
    },
    {
     "data": {
      "text/plain": "<Figure size 432x288 with 1 Axes>",
      "image/png": "[encoded data removed]"
     },
     "metadata": {
      "needs_background": "light"
     },
     "output_type": "display_data"
    }
   ],
   "source": [
    "d = 1000\n",
    "# Number of hidden units\n",
    "k = 10\n",
    "m = 4 * d * k\n",
    "# Import a random problem instance.\n",
    "z = problems.MaxAffineRegressionProblem(m=m, d=d, k=k)\n",
    "init = z.initializer(1)\n",
    "param = [init]\n",
    "max_elts = 40\n",
    "eta_est = 2\n",
    "linsys_solver = BundleLinearSystemSolver.QR\n",
    "optimizer = SuperPolyak(param, max_elts=max_elts, eta_est=eta_est)\n",
    "loss_function = z.loss()\n",
    "\n",
    "\n",
    "def closure():\n",
    "    optimizer.zero_grad()\n",
    "    loss = loss_function(init)\n",
    "    loss.backward()\n",
    "    return loss\n",
    "\n",
    "\n",
    "gap = [closure().item()]\n",
    "cumulative_oracle_calls = [0]\n",
    "# A short loop that applies the SuperPolyak subgradient method to the loss function\n",
    "max_oracle_calls = 1000\n",
    "while closure().item() > 1e-10 and cumulative_oracle_calls[-1] < max_oracle_calls:\n",
    "    loss, bundle_idx = optimizer.step(closure)\n",
    "    print(\n",
    "        \"Iteration: {}, Loss: {}, Bundle idx: {}\".format(\n",
    "            cumulative_oracle_calls[-1], loss, bundle_idx\n",
    "        )\n",
    "    )\n",
    "    cumulative_oracle_calls.append(bundle_idx + cumulative_oracle_calls[-1])\n",
    "    gap.append(closure().item())\n",
    "\n",
    "plt.semilogy(cumulative_oracle_calls, gap)\n",
    "plt.xlabel(\"Cumulative oracle calls\")\n",
    "plt.ylabel(\"$f(x) - f^*$\")\n",
    "plt.title(\"2 layer neural network with {} parameters\".format(d * k))\n",
    "plt.show()"
   ]
  },
  {
   "cell_type": "markdown",
   "metadata": {
    "pycharm": {
     "name": "#%% md\n"
    }
   },
   "source": [
    "# An illustration of coupling SuperPolyak with the Polyak subgradient method\n",
    "\n",
    "Now we're going to demo how `superpolyak_coupled_with_fallback` can be used to couple SuperPolyak with a generic \"fallback\" method. One should think of the fallback method as more reliable than SuperPolyak, but potentially slow. Thus, when a SuperPolyak \"fails,\" we switch to the fallback method for a bit, and then eventually switch back to the fallback method if we need to.\n",
    "\n",
    "In this example, we couple SuperPolyak with the \"Polyak\" subgradient method, which is just SuperPolyak with `max_elts = 1`. We'll use the same problem instance as before. You'll see that the SuperPolyak method never fails in this example, so we never switch to the fallback method. This is not always the case, as we will see below."
   ]
  },
  {
   "cell_type": "code",
   "execution_count": 6,
   "metadata": {
    "pycharm": {
     "name": "#%%\n"
    }
   },
   "outputs": [
    {
     "name": "stdout",
     "output_type": "stream",
     "text": [
      "SuperPolyak step accepted! Current oracle evaluations:  40 , Loss =  0.05422084034336509 , Bundle index =  40 \n",
      "SuperPolyak step accepted! Current oracle evaluations:  52 , Loss =  0.0001293089282056904 , Bundle index =  12 \n",
      "SuperPolyak step accepted! Current oracle evaluations:  92 , Loss =  7.392852553766462e-12 , Bundle index =  40 \n",
      "Tolerance reached! Current oracle evals: 92, Loss = 7.392852553766462e-12\n"
     ]
    },
    {
     "data": {
      "text/plain": "<Figure size 432x288 with 1 Axes>",
      "image/png": "[encoded data removed]"
     },
     "metadata": {
      "needs_background": "light"
     },
     "output_type": "display_data"
    }
   ],
   "source": [
    "d = 1000\n",
    "k = 2\n",
    "m = 4 * d * k\n",
    "z = problems.MaxAffineRegressionProblem(m=m, d=d, k=k)\n",
    "init = z.initializer(1)\n",
    "param = [init]\n",
    "max_elts = 40\n",
    "eta_est = 2\n",
    "linsys_solver = BundleLinearSystemSolver.QR\n",
    "superpolyak_optimizer = SuperPolyak(param, max_elts=max_elts, eta_est=eta_est)\n",
    "polyak_optimizer = SuperPolyak(param, max_elts=1, eta_est=2)\n",
    "loss_function = z.loss()\n",
    "\n",
    "\n",
    "def closure():\n",
    "    superpolyak_optimizer.zero_grad()\n",
    "    loss = loss_function(init)\n",
    "    loss.backward()\n",
    "    return loss\n",
    "\n",
    "\n",
    "gap = [closure().item()]\n",
    "cumulative_oracle_calls = [0]\n",
    "max_inner_iter = 10\n",
    "max_outer_iter = 100\n",
    "oracle_calls, loss_list = superpolyak_coupled_with_fallback(\n",
    "    superpolyak_closure=closure,\n",
    "    fallback_closure=closure,\n",
    "    superpolyak_optimizer=superpolyak_optimizer,\n",
    "    fallback_optimizer=polyak_optimizer,\n",
    "    max_inner_iter=max_inner_iter,\n",
    "    tol=1e-10,\n",
    "    max_outer_iter=max_outer_iter,\n",
    "    verbose=True,\n",
    ")\n",
    "\n",
    "plt.semilogy(oracle_calls, loss_list)\n",
    "plt.xlabel(\"Cumulative oracle calls\")\n",
    "plt.ylabel(\"$f(x) - f^*$\")\n",
    "plt.title(\"Max affine regression with {} parameters\".format(d * 2))\n",
    "plt.show()"
   ]
  },
  {
   "cell_type": "markdown",
   "metadata": {
    "pycharm": {
     "name": "#%% md\n"
    }
   },
   "source": [
    "# Illustration of using the prox-gradient method as a fallback method for Lasso\n",
    "\n",
    "This example illustrates a case where the fallback method does a lot of work.\n",
    "\n",
    "We're interested in solving the (convex) Lasso problem\n",
    "$$\n",
    "\\min_{x\\in \\mathbb{R}^d} \\frac{1}{2}\\|Ax - b\\|_2^2 + \\lambda \\|x\\|_1.\n",
    "$$\n",
    "We generate a random instance of the problem, where\n",
    "- $A \\in \\mathbb{R}^{m \\times d}$ is a random Gaussian matrix.\n",
    "- $b = A \\bar x$\n",
    "- $\\bar x$ is a random $k$ sparse vector.\n",
    "\n",
    "We choose $\\lambda$ specifically so that $\\bar x$ is a solution to the problem. The proximal gradient algorithm is a standard method for Lasso problem class. While there exist faster methods for the problem class, we will use this as our fallback.\n",
    "\n",
    "For our loss function $f$, we use the following nonsmooth, nonconvex loss function:\n",
    "\n",
    "$$\n",
    "f(x) = \\|x - \\mathrm{prox}_{\\lambda \\|\\cdot\\|_1} (x - \\tau A^T(Ax - b)))\\|_2\n",
    "$$\n",
    "\n",
    "The loss is motivated by the well-known property that the solutions to the Lasso problem are precisely the fixed-points of the proximal gradient operator:\n",
    "$$\n",
    "T(x) := \\mathrm{prox}_{\\lambda \\|\\cdot\\|_1} (x - \\tau A^T(Ax - b))).\n",
    "$$\n"
   ]
  },
  {
   "cell_type": "code",
   "execution_count": 7,
   "metadata": {
    "pycharm": {
     "name": "#%%\n"
    }
   },
   "outputs": [
    {
     "name": "stdout",
     "output_type": "stream",
     "text": [
      "Fallback step accepted! Current oracle evaluations:  42 , Loss =  0.17362238507779426 \n",
      "Fallback step accepted! Current oracle evaluations:  85 , Loss =  0.08112950303161527 \n",
      "Fallback step accepted! Current oracle evaluations:  130 , Loss =  0.039279136025451154 \n",
      "Fallback step accepted! Current oracle evaluations:  178 , Loss =  0.019578694441171312 \n",
      "Fallback step accepted! Current oracle evaluations:  253 , Loss =  0.00976276419260111 \n",
      "Fallback step accepted! Current oracle evaluations:  387 , Loss =  0.0046824927643091116 \n",
      "Fallback step accepted! Current oracle evaluations:  527 , Loss =  0.0032220108250255743 \n",
      "Fallback step accepted! Current oracle evaluations:  667 , Loss =  0.0024076810488719174 \n",
      "Fallback step accepted! Current oracle evaluations:  807 , Loss =  0.0017057600748115202 \n",
      "Fallback step accepted! Current oracle evaluations:  947 , Loss =  0.0010550121828535439 \n",
      "Fallback step accepted! Current oracle evaluations:  1087 , Loss =  0.0008847290122845894 \n",
      "Fallback step accepted! Current oracle evaluations:  1227 , Loss =  0.0006900540214556367 \n",
      "Fallback step accepted! Current oracle evaluations:  1367 , Loss =  0.000588043870433423 \n",
      "SuperPolyak step accepted! Current oracle evaluations:  1407 , Loss =  0.0002051462827769707 , Bundle index =  40 \n",
      "Fallback step accepted! Current oracle evaluations:  1547 , Loss =  0.00019303757376838324 \n",
      "Fallback step accepted! Current oracle evaluations:  1687 , Loss =  0.00019091889312355378 \n",
      "Fallback step accepted! Current oracle evaluations:  1827 , Loss =  0.00018904651465521323 \n",
      "Fallback step accepted! Current oracle evaluations:  1967 , Loss =  0.00018725644054519568 \n",
      "Fallback step accepted! Current oracle evaluations:  2107 , Loss =  0.00018551094671981716 \n",
      "Fallback step accepted! Current oracle evaluations:  2247 , Loss =  0.00018379761646701586 \n",
      "Fallback step accepted! Current oracle evaluations:  2387 , Loss =  0.00018211093276949584 \n",
      "Fallback step accepted! Current oracle evaluations:  2527 , Loss =  0.0001804478186175978 \n",
      "Fallback step accepted! Current oracle evaluations:  2667 , Loss =  0.00017880629063343927 \n",
      "Fallback step accepted! Current oracle evaluations:  2807 , Loss =  0.00017718494934123772 \n",
      "Fallback step accepted! Current oracle evaluations:  2947 , Loss =  0.00015028041612816 \n",
      "Fallback step accepted! Current oracle evaluations:  3087 , Loss =  0.00013054383641678856 \n",
      "Fallback step accepted! Current oracle evaluations:  3227 , Loss =  0.0001187934461611796 \n",
      "SuperPolyak step accepted! Current oracle evaluations:  3267 , Loss =  4.2020362682160814e-05 , Bundle index =  40 \n",
      "SuperPolyak step accepted! Current oracle evaluations:  3278 , Loss =  1.924393753582215e-16 , Bundle index =  11 \n",
      "Tolerance reached! Current oracle evals: 3278, Loss = 1.924393753582215e-16\n"
     ]
    },
    {
     "data": {
      "text/plain": "<Figure size 432x288 with 1 Axes>",
      "image/png": "[encoded data removed]"
     },
     "metadata": {
      "needs_background": "light"
     },
     "output_type": "display_data"
    }
   ],
   "source": [
    "# The dimension\n",
    "d = 1000\n",
    "# the sparsity level\n",
    "k = 2\n",
    "# The number of linear measuremennts\n",
    "m = 4 * k\n",
    "z = problems.LassoProblem(m=m, d=d, k=k)\n",
    "init = z.initializer(1)\n",
    "param = [init]\n",
    "max_elts = 40\n",
    "eta_est = 2\n",
    "linsys_solver = BundleLinearSystemSolver.LSMR  # QR becomes unstable for this problem\n",
    "superpolyak_optimizer = SuperPolyak(\n",
    "    param, max_elts=max_elts, eta_est=eta_est, linsys_solver=linsys_solver\n",
    ")\n",
    "proxgradient_optimizer = ProxGradient(param, proxs=[z.prox], lr=z.prox_step)\n",
    "loss_function = z.loss()\n",
    "\n",
    "\n",
    "def superpolyak_closure():\n",
    "    superpolyak_optimizer.zero_grad()\n",
    "    loss = loss_function(init)\n",
    "    loss.backward()\n",
    "    return loss\n",
    "\n",
    "\n",
    "def fallback_closure():\n",
    "    proxgradient_optimizer.zero_grad()\n",
    "    loss = 0.5 * torch.sum(torch.square(z.A @ init - z.y))\n",
    "    loss.backward()\n",
    "    return loss\n",
    "\n",
    "\n",
    "max_inner_iter = 100\n",
    "max_outer_iter = 100\n",
    "oracle_calls, loss_list = superpolyak_coupled_with_fallback(\n",
    "    superpolyak_closure=superpolyak_closure,\n",
    "    fallback_closure=fallback_closure,\n",
    "    superpolyak_optimizer=superpolyak_optimizer,\n",
    "    fallback_optimizer=proxgradient_optimizer,\n",
    "    max_inner_iter=max_inner_iter,\n",
    "    tol=1e-10,\n",
    "    max_outer_iter=max_outer_iter,\n",
    "    verbose=True,\n",
    ")\n",
    "\n",
    "plt.semilogy(oracle_calls, loss_list)\n",
    "plt.xlabel(\"Cumulative oracle calls\")\n",
    "plt.ylabel(\"$f(x) - f^*$\")\n",
    "plt.title(\"Lasso problem with {} parameters\".format(d * 2))\n",
    "plt.show()"
   ]
  },
  {
   "cell_type": "markdown",
   "metadata": {
    "pycharm": {
     "name": "#%% md\n"
    }
   },
   "source": [
    "# Phase retrieval on distance functions with Alternating Projections Fallback\n",
    "\n",
    "This example illustrates how SuperPolyak can accelerate the alternating projections method for a nonconvex problem.\n",
    "\n",
    "We focus on *phase retrieval*, where the goal is to recover a complex-valued signal $\\bar{x} \\in \\mathbb{C}^d$ from a set of phaseless measurements:\n",
    "\n",
    "$$\n",
    "y_i = |\\langle a_i, \\bar{x}\\rangle|, \\; \\text{for $i = 1, \\dots, m$}.\n",
    "$$\n",
    "\n",
    "To recover $\\bar{x}$, we consider the feasibility formulation\n",
    "\n",
    "$$\n",
    "\\text{find $\\hat{y} \\in \\mathcal{Y} \\cap \\mathrm{Range}(A)$}, \\quad \\text{where} \\quad\n",
    "\\mathcal{Y} := \\{u \\in \\mathbb{C}^m \\mid |u| = y\\},\n",
    "$$\n",
    "\n",
    "where $A$ is the matrix whose $i$-th row is $a_i^*$, and estimate $\\bar{x}$ using $A^{\\dagger} \\hat{y}$. A standard method for solving this problem is the **alternating projections** method:\n",
    "\n",
    "$$\n",
    "y_{k+1} := \\mathrm{proj}_{\\mathrm{range}(A)}\\left( \\mathrm{proj}_{\\mathcal{Y}}(y_k) \\right), \\; \\; k = 0, 1, \\dots,\n",
    "$$\n",
    "\n",
    "where each projections is available in closed form. Using the method as a fallback, we apply SuperPolyak to the nonnegative loss function\n",
    "\n",
    "$$\n",
    "f(y) := \\mathrm{dist}(y, \\mathcal{Y}) + \\mathrm{dist}(y, \\mathrm{range}(A)).\n",
    "$$"
   ]
  },
  {
   "cell_type": "code",
   "execution_count": 9,
   "metadata": {
    "pycharm": {
     "name": "#%%\n"
    }
   },
   "outputs": [
    {
     "name": "stdout",
     "output_type": "stream",
     "text": [
      "20.204195307333787\n",
      "SuperPolyak step accepted! Current oracle evaluations:  40 , Loss =  0.2782428530308775 , Bundle index =  40 \n",
      "SuperPolyak step accepted! Current oracle evaluations:  42 , Loss =  0.10747728750141827 , Bundle index =  2 \n",
      "SuperPolyak step accepted! Current oracle evaluations:  45 , Loss =  0.034651702897578365 , Bundle index =  3 \n",
      "SuperPolyak step accepted! Current oracle evaluations:  49 , Loss =  0.005993070175209688 , Bundle index =  4 \n",
      "SuperPolyak step accepted! Current oracle evaluations:  54 , Loss =  0.0003867011667884148 , Bundle index =  5 \n",
      "SuperPolyak step accepted! Current oracle evaluations:  61 , Loss =  7.393179471415611e-06 , Bundle index =  7 \n",
      "SuperPolyak step accepted! Current oracle evaluations:  74 , Loss =  1.7208895338711265e-08 , Bundle index =  13 \n",
      "SuperPolyak step accepted! Current oracle evaluations:  93 , Loss =  1.8441718138817673e-12 , Bundle index =  19 \n",
      "Tolerance reached! Current oracle evals: 93, Loss = 1.8441718138817673e-12\n"
     ]
    },
    {
     "data": {
      "text/plain": "<Figure size 432x288 with 1 Axes>",
      "image/png": "[encoded data removed]"
     },
     "metadata": {
      "needs_background": "light"
     },
     "output_type": "display_data"
    }
   ],
   "source": [
    "d = 100\n",
    "m = 8 * d\n",
    "z = problems.PhaseRetrievalProblem(m=m, d=d)\n",
    "init = z.initializer_altproj(1.0)\n",
    "param = [init]\n",
    "superpolyak_optimizer = SuperPolyak(param, max_elts=40, eta_est=0.5)\n",
    "projs = [z.alternating_projections_step()]\n",
    "AlternatingProjections_optimizer = AlternatingProjections(param, projs=projs)\n",
    "loss_function = z.loss_altproj()\n",
    "\n",
    "\n",
    "def superpolyak_closure():\n",
    "    superpolyak_optimizer.zero_grad()\n",
    "    loss = loss_function(init)\n",
    "    loss.backward()\n",
    "    return loss\n",
    "\n",
    "\n",
    "print(superpolyak_closure().item())\n",
    "max_inner_iter = 100\n",
    "max_outer_iter = 100\n",
    "oracle_calls, loss_list = superpolyak_coupled_with_fallback(\n",
    "    superpolyak_closure=superpolyak_closure,\n",
    "    fallback_closure=superpolyak_closure,\n",
    "    superpolyak_optimizer=superpolyak_optimizer,\n",
    "    fallback_optimizer=AlternatingProjections_optimizer,\n",
    "    max_inner_iter=max_inner_iter,\n",
    "    tol=1e-10,\n",
    "    max_outer_iter=max_outer_iter,\n",
    "    verbose=True,\n",
    ")\n",
    "\n",
    "plt.semilogy(oracle_calls, loss_list)\n",
    "plt.xlabel(\"Cumulative oracle calls\")\n",
    "plt.ylabel(\"$f(x) - f^*$\")\n",
    "plt.title(\n",
    "    \"Complex phase retrieval problem problem with {} parameters and {} measurements.\".format(\n",
    "        d * 2, m\n",
    "    )\n",
    ")\n",
    "plt.show()"
   ]
  },
  {
   "cell_type": "markdown",
   "metadata": {
    "pycharm": {
     "name": "#%% md\n"
    }
   },
   "source": [
    "# Phase retrieval with a generative prior\n",
    "This example is a demonstration of SuperPolyak for solving real phase retrieval under a *generative prior*.\n",
    "Here, we wish to recover a real-valued $\\bar{x} \\in \\mathbb{R}^d$ from a number of measurements\n",
    "\n",
    "$$\n",
    "y_i = |\\langle a_i, \\bar{x} \\rangle|, \\; \\; \\text{for $i = 1, \\dots, m$}.\n",
    "$$\n",
    "\n",
    "The problem is ill-posed in general when the number of measurements $m$ is less than the ambient dimension $d$. To enable recovery, it is typically assumed that $\\bar{x}$ lies in a \"low-complexity\" set (e.g., the set of $k$-sparse vectors for some $k < d$).\n",
    "\n",
    "Here, we impose a **generative prior** on $\\bar{x}$. In particular, we assume that\n",
    "\n",
    "$$\n",
    "\\bar{x} = G(\\bar{z}), \\quad \\bar{z} \\in \\mathbb{R}^k,\n",
    "$$\n",
    "\n",
    "where $G: \\mathbb{R}^k \\to \\mathbb{R}^d$ is a ReLU network with fixed weights and $k \\ll d$. To recover $\\bar{x}$, we optimize over the space of latent codes $z$:\n",
    "\n",
    "$$\n",
    "\\min_{z \\in \\mathbb{R}^k} F(z) := \\frac{1}{m} \\sum_{i = 1}^m |\\langle a_i, G(z)\\rangle - y_i|.\n",
    "$$\n",
    "\n",
    "As in previous examples, we couple SuperPolyak with the Polyak subgradient method for this instance."
   ]
  },
  {
   "cell_type": "code",
   "execution_count": 10,
   "metadata": {
    "pycharm": {
     "name": "#%%\n"
    }
   },
   "outputs": [
    {
     "name": "stdout",
     "output_type": "stream",
     "text": [
      "464.2038995114751\n",
      "SuperPolyak step accepted! Current oracle evaluations:  20 , Loss =  2.251909452721969 , Bundle index =  20 \n",
      "SuperPolyak step accepted! Current oracle evaluations:  40 , Loss =  0.0005212139244086256 , Bundle index =  20 \n",
      "SuperPolyak step accepted! Current oracle evaluations:  60 , Loss =  2.337616766823203e-09 , Bundle index =  20 \n",
      "SuperPolyak step accepted! Current oracle evaluations:  80 , Loss =  2.9563240744323593e-11 , Bundle index =  20 \n",
      "Tolerance reached! Current oracle evals: 80, Loss = 2.9563240744323593e-11\n"
     ]
    },
    {
     "data": {
      "text/plain": "<Figure size 432x288 with 1 Axes>",
      "image/png": "[encoded data removed]"
     },
     "metadata": {
      "needs_background": "light"
     },
     "output_type": "display_data"
    }
   ],
   "source": [
    "latent_dimension = 200\n",
    "d = 5000\n",
    "m = min([5 * latent_dimension, 5 * d])\n",
    "z = problems.GenerativePhaseRetrievalProblem(\n",
    "    m=m, d=d, latent_dimension=latent_dimension\n",
    ")\n",
    "init = z.initializer(0.5)\n",
    "param = [init]\n",
    "superpolyak_optimizer = SuperPolyak(param, max_elts=20, eta_est=2)\n",
    "polyak_optimizer = SuperPolyak(param, max_elts=1, eta_est=2)\n",
    "loss_function = z.loss()\n",
    "\n",
    "\n",
    "def superpolyak_closure():\n",
    "    superpolyak_optimizer.zero_grad()\n",
    "    loss = loss_function(init)\n",
    "    loss.backward()\n",
    "    return loss\n",
    "\n",
    "\n",
    "def polyak_closure():\n",
    "    polyak_optimizer.zero_grad()\n",
    "    loss = loss_function(init)\n",
    "    loss.backward()\n",
    "    return loss\n",
    "\n",
    "\n",
    "print(superpolyak_closure().item())\n",
    "max_inner_iter = 100\n",
    "max_outer_iter = 50\n",
    "oracle_calls, loss_list = superpolyak_coupled_with_fallback(\n",
    "    superpolyak_closure=superpolyak_closure,\n",
    "    fallback_closure=polyak_closure,\n",
    "    superpolyak_optimizer=superpolyak_optimizer,\n",
    "    fallback_optimizer=polyak_optimizer,\n",
    "    max_inner_iter=max_inner_iter,\n",
    "    tol=1e-10,\n",
    "    max_outer_iter=max_outer_iter,\n",
    "    verbose=True,\n",
    ")\n",
    "\n",
    "plt.semilogy(oracle_calls, loss_list)\n",
    "plt.xlabel(\"Cumulative oracle calls\")\n",
    "plt.ylabel(\"$f(x) - f^*$\")\n",
    "plt.title(\n",
    "    \"Phase retrieval with a generative prior.\\n Signal dimension {}\\n Number of Latent parameters: {}\\n Number of measurements {}\".format(\n",
    "        latent_dimension, d, m\n",
    "    )\n",
    ")\n",
    "plt.show()"
   ]
  },
  {
   "cell_type": "markdown",
   "metadata": {
    "pycharm": {
     "name": "#%% md\n"
    }
   },
   "source": [
    "# Logistic regression with $\\ell_2$ regularization: coupling gradient descent and SuperPolyak on Norm of gradient.\n",
    "\n",
    "In this example, we consider an $\\ell_2$ regularized logistic regression problem on random Gaussian data. At a high-level, the problem is\n",
    "\n",
    "$$\n",
    "\\min  l(x)\n",
    "$$\n",
    "\n",
    "where $l$ is a smooth and strongly convex problem. As our fallback method, we will use the gradient descent algorithm, which converges linearly on this problem.\n",
    "\n",
    "For our loss function $f$, we simply use the norm of the gradient of $l$:\n",
    "$$\n",
    "f(x) = \\|\\nabla l(x)\\|.\n",
    "$$\n",
    "For this problem class, $f(x) = 0$ precisely when $x$ minimizes $l$.\n",
    "\n"
   ]
  },
  {
   "cell_type": "code",
   "execution_count": 11,
   "metadata": {
    "pycharm": {
     "name": "#%%\n"
    }
   },
   "outputs": [
    {
     "name": "stdout",
     "output_type": "stream",
     "text": [
      "0.06364127193201466\n",
      "SuperPolyak step accepted! Current oracle evaluations:  2 , Loss =  0.008857916013541328 , Bundle index =  2 \n",
      "SuperPolyak step accepted! Current oracle evaluations:  4 , Loss =  0.0020963794790282222 , Bundle index =  2 \n",
      "SuperPolyak step accepted! Current oracle evaluations:  6 , Loss =  0.00011482879839808605 , Bundle index =  2 \n",
      "SuperPolyak step accepted! Current oracle evaluations:  8 , Loss =  9.96220378727581e-07 , Bundle index =  2 \n",
      "SuperPolyak step accepted! Current oracle evaluations:  10 , Loss =  1.6613365638119465e-10 , Bundle index =  2 \n",
      "SuperPolyak step accepted! Current oracle evaluations:  12 , Loss =  1.3868209969632512e-16 , Bundle index =  2 \n",
      "SuperPolyak step accepted! Current oracle evaluations:  14 , Loss =  8.221024277795776e-18 , Bundle index =  2 \n",
      "Tolerance reached! Current oracle evals: 14, Loss = 8.221024277795776e-18\n"
     ]
    },
    {
     "data": {
      "text/plain": "<Figure size 432x288 with 1 Axes>",
      "image/png": "[encoded data removed]"
     },
     "metadata": {
      "needs_background": "light"
     },
     "output_type": "display_data"
    },
    {
     "name": "stdout",
     "output_type": "stream",
     "text": [
      "Elapsed time: 3.3078300952911377 seconds\n"
     ]
    }
   ],
   "source": [
    "import time\n",
    "\n",
    "d = 100000\n",
    "m = 1000\n",
    "l2_penalty = 0.0001\n",
    "z = problems.LogisticRegressionProblem(m=m, d=d, l2_penalty=l2_penalty)\n",
    "init = z.initializer(1)\n",
    "param = [init]\n",
    "linsys_solver = BundleLinearSystemSolver.QR\n",
    "superpolyak_optimizer = SuperPolyak(\n",
    "    param, max_elts=2, eta_est=2, linsys_solver=linsys_solver\n",
    ")\n",
    "sgd_optimizer = torch.optim.SGD(param, lr=z.lr)\n",
    "loss_function = z.norm_grad()\n",
    "\n",
    "\n",
    "def superpolyak_closure():\n",
    "    superpolyak_optimizer.zero_grad()\n",
    "    loss = loss_function(init)\n",
    "    loss.backward()\n",
    "    return loss\n",
    "\n",
    "\n",
    "def sgd_closure():\n",
    "    sgd_optimizer.zero_grad()\n",
    "    loss = z.loss()(init)\n",
    "    loss.backward()\n",
    "    return loss\n",
    "\n",
    "\n",
    "print(superpolyak_closure().item())\n",
    "max_inner_iter = 100\n",
    "max_outer_iter = 100\n",
    "# start timer\n",
    "start = time.time()\n",
    "oracle_calls, loss_list = superpolyak_coupled_with_fallback(\n",
    "    superpolyak_closure=superpolyak_closure,\n",
    "    fallback_closure=sgd_closure,\n",
    "    superpolyak_optimizer=superpolyak_optimizer,\n",
    "    fallback_optimizer=sgd_optimizer,\n",
    "    max_inner_iter=max_inner_iter,\n",
    "    tol=1e-16,\n",
    "    max_outer_iter=max_outer_iter,\n",
    "    verbose=True,\n",
    ")\n",
    "# end timer\n",
    "end = time.time()\n",
    "\n",
    "plt.semilogy(oracle_calls, loss_list)\n",
    "plt.xlabel(\"Cumulative oracle calls\")\n",
    "plt.ylabel(\"$f(x) - f^*$\")\n",
    "plt.title(\"Logistic regression problem with {} parameters\".format(d))\n",
    "# modify the title so it also includes the number of samples `m` and the l2 penalty parameter\n",
    "plt.title(\n",
    "    \"Logistic regression problem with {} parameters, {} samples, and l2 penalty {}\".format(\n",
    "        d, m, z.l2_penalty\n",
    "    )\n",
    ")\n",
    "plt.show()\n",
    "print(\"Elapsed time: {} seconds\".format(end - start))"
   ]
  },
  {
   "cell_type": "markdown",
   "metadata": {
    "pycharm": {
     "name": "#%% md\n"
    }
   },
   "source": [
    "# Newton's method on $\\ell_2$ regularized logistic regression problem\n",
    "\n",
    "Here we demonstrate a Newton algorithm on the same problem as in the previous cell. In our implementation, we use a CG type algorithm to solve the linear system."
   ]
  },
  {
   "cell_type": "code",
   "execution_count": 12,
   "metadata": {
    "pycharm": {
     "name": "#%%\n"
    }
   },
   "outputs": [
    {
     "name": "stdout",
     "output_type": "stream",
     "text": [
      "Iteration:  0 , Loss:  0.0009456692436965512\n",
      "Iteration:  1 , Loss:  3.57752204565748e-05\n",
      "Iteration:  2 , Loss:  1.45352087682721e-07\n",
      "Iteration:  3 , Loss:  3.771216646387623e-12\n",
      "Iteration:  4 , Loss:  4.447461395883951e-17\n",
      "Elapsed time: 5.491976022720337 seconds\n"
     ]
    },
    {
     "data": {
      "text/plain": "<Figure size 432x288 with 1 Axes>",
      "image/png": "[encoded data removed]"
     },
     "metadata": {
      "needs_background": "light"
     },
     "output_type": "display_data"
    }
   ],
   "source": [
    "d = 100000\n",
    "m = 1000\n",
    "l2_penalty = 0.0001\n",
    "z = problems.LogisticRegressionProblem(m=m, d=d, l2_penalty=l2_penalty)\n",
    "init = z.initializer(1)\n",
    "param = [init]\n",
    "Newton_optimizer = NewtonCG(param)\n",
    "loss_function = z.loss()\n",
    "\n",
    "\n",
    "def Newton_closure(x):\n",
    "    Newton_optimizer.zero_grad()\n",
    "    loss = loss_function(x)\n",
    "    # loss.backward()\n",
    "    return loss\n",
    "\n",
    "\n",
    "def grad_norm_closure():\n",
    "    Newton_optimizer.zero_grad()\n",
    "    loss = z.norm_grad()(init)\n",
    "    # loss.backward()\n",
    "    return loss\n",
    "\n",
    "\n",
    "max_oracle_calls = 100\n",
    "gap = [Newton_closure(init).item()]\n",
    "cumulative_oracle_calls = [0]\n",
    "# start timer\n",
    "start = time.time()\n",
    "while (\n",
    "    grad_norm_closure().item() > 1e-16\n",
    "    and cumulative_oracle_calls[-1] < max_oracle_calls\n",
    "):\n",
    "    Newton_optimizer.step(Newton_closure)\n",
    "    print(\n",
    "        \"Iteration: \",\n",
    "        cumulative_oracle_calls[-1],\n",
    "        \", Loss: \",\n",
    "        grad_norm_closure().item(),\n",
    "    )\n",
    "    cumulative_oracle_calls.append(1 + cumulative_oracle_calls[-1])\n",
    "    gap.append(grad_norm_closure().item())\n",
    "# end timer\n",
    "end = time.time()\n",
    "\n",
    "plt.semilogy(cumulative_oracle_calls, gap)\n",
    "plt.xlabel(\"Cumulative oracle calls\")\n",
    "plt.ylabel(\"$f(x) - f^*$\")\n",
    "plt.title(\n",
    "    \"Logistic regression problem with {} parameters, {} samples, and l2 penalty {}\".format(\n",
    "        d, m, z.l2_penalty\n",
    "    )\n",
    ")\n",
    "\n",
    "print(\"Elapsed time: {} seconds\".format(end - start))"
   ]
  },
  {
   "cell_type": "markdown",
   "metadata": {
    "pycharm": {
     "name": "#%% md\n"
    }
   },
   "source": [
    "# Comparing SuperPolyak and Newton's method on $\\ell_2$ regularized logistic regression problem\n",
    "\n",
    "Now we compare the performance of SuperPolyak and Newton's method on the same problem as in the previous cell. In our implementation, we use a CG type algorithm to solve the Newton system.\n"
   ]
  },
  {
   "cell_type": "code",
   "execution_count": 13,
   "outputs": [
    {
     "name": "stdout",
     "output_type": "stream",
     "text": [
      "SuperPolyak step accepted! Current oracle evaluations:  2 , Loss =  0.00045483957634377697 , Bundle index =  2 \n",
      "SuperPolyak step accepted! Current oracle evaluations:  4 , Loss =  2.1852809131168657e-06 , Bundle index =  2 \n",
      "SuperPolyak step accepted! Current oracle evaluations:  6 , Loss =  1.0273340417350039e-10 , Bundle index =  2 \n",
      "SuperPolyak step accepted! Current oracle evaluations:  8 , Loss =  6.0320890718703765e-18 , Bundle index =  2 \n",
      "Tolerance reached! Current oracle evals: 8, Loss = 6.0320890718703765e-18\n",
      "d = 1000, SuperPolyak time = 0.025683879852294922, NewtonCG time = 0.10583114624023438\n",
      "SuperPolyak step accepted! Current oracle evaluations:  2 , Loss =  0.003904512071326513 , Bundle index =  2 \n",
      "SuperPolyak step accepted! Current oracle evaluations:  4 , Loss =  0.00040761780954456987 , Bundle index =  2 \n",
      "SuperPolyak step accepted! Current oracle evaluations:  6 , Loss =  1.6124289366643205e-06 , Bundle index =  2 \n",
      "SuperPolyak step accepted! Current oracle evaluations:  8 , Loss =  1.6095465329984373e-10 , Bundle index =  2 \n",
      "SuperPolyak step accepted! Current oracle evaluations:  10 , Loss =  4.364138851932261e-17 , Bundle index =  2 \n",
      "Tolerance reached! Current oracle evals: 10, Loss = 4.364138851932261e-17\n",
      "d = 10000, SuperPolyak time = 0.3592700958251953, NewtonCG time = 0.6507880687713623\n",
      "SuperPolyak step accepted! Current oracle evaluations:  2 , Loss =  0.008774796358386515 , Bundle index =  2 \n",
      "SuperPolyak step accepted! Current oracle evaluations:  4 , Loss =  0.0019017499332056073 , Bundle index =  2 \n",
      "SuperPolyak step accepted! Current oracle evaluations:  6 , Loss =  0.00011035819930769336 , Bundle index =  2 \n",
      "SuperPolyak step accepted! Current oracle evaluations:  8 , Loss =  8.386167022397617e-07 , Bundle index =  2 \n",
      "SuperPolyak step accepted! Current oracle evaluations:  10 , Loss =  1.3150293140743908e-10 , Bundle index =  2 \n",
      "SuperPolyak step accepted! Current oracle evaluations:  12 , Loss =  1.3607537485146627e-16 , Bundle index =  2 \n",
      "SuperPolyak step accepted! Current oracle evaluations:  14 , Loss =  7.928156093068833e-18 , Bundle index =  2 \n",
      "Tolerance reached! Current oracle evals: 14, Loss = 7.928156093068833e-18\n",
      "d = 100000, SuperPolyak time = 3.3584768772125244, NewtonCG time = 4.888485908508301\n"
     ]
    },
    {
     "data": {
      "text/plain": "<Figure size 432x288 with 1 Axes>",
      "image/png": "[encoded data removed]"
     },
     "metadata": {
      "needs_background": "light"
     },
     "output_type": "display_data"
    },
    {
     "name": "stdout",
     "output_type": "stream",
     "text": [
      "d\tSuperPolyak time (s)\tNewtonCG time (s)\n",
      "-------------------------------------------------\n",
      "1000\t0.025683879852294922\t0.10583114624023438\n",
      "10000\t0.3592700958251953\t0.6507880687713623\n",
      "100000\t3.3584768772125244\t4.888485908508301\n"
     ]
    }
   ],
   "source": [
    "m = 1000\n",
    "l2_penalty = 0.0001\n",
    "\n",
    "d_list = [1000, 10000, 100000]\n",
    "\n",
    "superpolyak_time = []\n",
    "newtoncg_time = []\n",
    "\n",
    "superpolyak_oracle_calls = []\n",
    "newtoncg_oracle_calls = []\n",
    "\n",
    "superpolyak_grad_norm = []\n",
    "newtoncg_grad_norm = []\n",
    "\n",
    "tol = 1e-16\n",
    "init_distance = 1\n",
    "\n",
    "for d in d_list:\n",
    "    z = problems.LogisticRegressionProblem(m=m, d=d, l2_penalty=l2_penalty)\n",
    "    init = z.initializer(init_distance)\n",
    "    param = [init]\n",
    "    linsys_solver = BundleLinearSystemSolver.QR\n",
    "    superpolyak_optimizer = SuperPolyak(\n",
    "        param, max_elts=2, eta_est=2, linsys_solver=linsys_solver\n",
    "    )\n",
    "    # define the SGD optimizer\n",
    "    sgd_optimizer = torch.optim.SGD(param, lr=z.lr)\n",
    "    loss_function = z.norm_grad()\n",
    "\n",
    "    # define the superpolyak closure\n",
    "    def superpolyak_closure():\n",
    "        superpolyak_optimizer.zero_grad()\n",
    "        loss = loss_function(init)\n",
    "        loss.backward()\n",
    "        return loss\n",
    "\n",
    "    # define the sgd closure\n",
    "    def sgd_closure():\n",
    "        sgd_optimizer.zero_grad()\n",
    "        loss = z.loss(init)\n",
    "        loss.backward()\n",
    "        return loss\n",
    "\n",
    "    # define the oracle calls and loss list for SuperPolyak\n",
    "    oracle_calls = [0]\n",
    "    loss_list = [superpolyak_closure().item()]\n",
    "\n",
    "    # start timer\n",
    "    start = time.time()\n",
    "    max_inner_iter = 100\n",
    "    max_outer_iter = 100\n",
    "    # start timer\n",
    "    start = time.time()\n",
    "    oracle_calls, loss_list = superpolyak_coupled_with_fallback(\n",
    "        superpolyak_closure=superpolyak_closure,\n",
    "        fallback_closure=sgd_closure,\n",
    "        superpolyak_optimizer=superpolyak_optimizer,\n",
    "        fallback_optimizer=sgd_optimizer,\n",
    "        max_inner_iter=max_inner_iter,\n",
    "        tol=tol,\n",
    "        max_outer_iter=max_outer_iter,\n",
    "        verbose=True,\n",
    "    )\n",
    "    end = time.time()\n",
    "\n",
    "    superpolyak_time.append(end - start)\n",
    "    superpolyak_oracle_calls.append(oracle_calls)\n",
    "    superpolyak_grad_norm.append(loss_list)\n",
    "\n",
    "    # reinitialize the parameter\n",
    "    init = z.initializer(init_distance)\n",
    "    param = [init]\n",
    "\n",
    "    Newton_optimizer = NewtonCG(param)\n",
    "\n",
    "    def grad_norm_closure():\n",
    "        Newton_optimizer.zero_grad()\n",
    "        loss = z.norm_grad()(init)\n",
    "        # loss.backward()\n",
    "        return loss\n",
    "\n",
    "    def Newton_closure(x):\n",
    "        Newton_optimizer.zero_grad()\n",
    "        loss = z.loss()(x)\n",
    "        return loss\n",
    "\n",
    "    oracle_calls_newton = [0]\n",
    "    loss_list_newton = [grad_norm_closure().item()]\n",
    "    max_oracle_calls = 10\n",
    "    start = time.time()\n",
    "    while loss_list_newton[-1] > tol and oracle_calls_newton[-1] < max_oracle_calls:\n",
    "        Newton_optimizer.step(Newton_closure)\n",
    "        oracle_calls_newton.append(1 + oracle_calls_newton[-1])\n",
    "        loss_list_newton.append(grad_norm_closure().item())\n",
    "\n",
    "    end = time.time()\n",
    "\n",
    "    newtoncg_time.append(end - start)\n",
    "    newtoncg_oracle_calls.append(oracle_calls_newton)\n",
    "    newtoncg_grad_norm.append(loss_list_newton)\n",
    "\n",
    "    print(\n",
    "        \"d = {}, SuperPolyak time = {}, NewtonCG time = {}\".format(\n",
    "            d, superpolyak_time[-1], newtoncg_time[-1]\n",
    "        )\n",
    "    )\n",
    "\n",
    "for d in d_list:\n",
    "    plt.semilogy(\n",
    "        superpolyak_oracle_calls[d_list.index(d)],\n",
    "        superpolyak_grad_norm[d_list.index(d)],\n",
    "        label=\"SuperPolyak, d = {}\".format(d),\n",
    "    )\n",
    "\n",
    "for d in d_list:\n",
    "    plt.semilogy(\n",
    "        newtoncg_oracle_calls[d_list.index(d)],\n",
    "        newtoncg_grad_norm[d_list.index(d)],\n",
    "        label=\"NewtonCG, d = {}\".format(d),\n",
    "    )\n",
    "\n",
    "plt.legend()\n",
    "plt.legend(loc=\"upper right\")\n",
    "plt.title(\"Logistic Regression, m = {}, l2_penalty = {}\".format(m, l2_penalty))\n",
    "plt.xlabel(\"Number of Oracle Calls\")\n",
    "plt.ylabel(\"Norm of the Gradient of the Loss Function\")\n",
    "plt.show()\n",
    "\n",
    "print(\"d\\tSuperPolyak time (s)\\tNewtonCG time (s)\")\n",
    "print(\"-------------------------------------------------\")\n",
    "for d in d_list:\n",
    "    print(\n",
    "        \"{}\\t{}\\t{}\".format(\n",
    "            d, superpolyak_time[d_list.index(d)], newtoncg_time[d_list.index(d)]\n",
    "        )\n",
    "    )"
   ],
   "metadata": {
    "collapsed": false,
    "pycharm": {
     "name": "#%%\n"
    }
   }
  },
  {
   "cell_type": "code",
   "execution_count": null,
   "outputs": [],
   "source": [],
   "metadata": {
    "collapsed": false,
    "pycharm": {
     "name": "#%%\n"
    }
   }
  }
 ],
 "metadata": {
  "kernelspec": {
   "display_name": "Python 3 (ipykernel)",
   "language": "python",
   "name": "python3"
  },
  "language_info": {
   "codemirror_mode": {
    "name": "ipython",
    "version": 3
   },
   "file_extension": ".py",
   "mimetype": "text/x-python",
   "name": "python",
   "nbconvert_exporter": "python",
   "pygments_lexer": "ipython3",
   "version": "3.10.8"
  }
 },
 "nbformat": 4,
 "nbformat_minor": 1
}